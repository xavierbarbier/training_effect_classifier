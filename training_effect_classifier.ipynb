{
  "nbformat": 4,
  "nbformat_minor": 0,
  "metadata": {
    "colab": {
      "name": "target_classifier.ipynb",
      "provenance": [],
      "toc_visible": true
    },
    "kernelspec": {
      "name": "python3",
      "display_name": "Python 3"
    }
  },
  "cells": [
    {
      "cell_type": "markdown",
      "metadata": {
        "id": "Va2XX5n_Dxp0"
      },
      "source": [
        "# Libraries\n"
      ]
    },
    {
      "cell_type": "code",
      "metadata": {
        "id": "pqXpuiYzxqe4",
        "outputId": "5c95cd8b-2585-4bd1-8b8c-576de2f1918b",
        "colab": {
          "base_uri": "https://localhost:8080/",
          "height": 34
        }
      },
      "source": [
        "import pandas as pd\n",
        "import numpy as np\n",
        "import warnings\n",
        "warnings.filterwarnings(\"ignore\")\n",
        "import matplotlib\n",
        "import matplotlib.pyplot as plt\n",
        "import seaborn as sns\n",
        "print(plt.rcParams.get('figure.figsize'))\n"
      ],
      "execution_count": 1,
      "outputs": [
        {
          "output_type": "stream",
          "text": [
            "[6.0, 4.0]\n"
          ],
          "name": "stdout"
        }
      ]
    },
    {
      "cell_type": "markdown",
      "metadata": {
        "id": "IuoUIavV7mhw"
      },
      "source": [
        "# Loading data"
      ]
    },
    {
      "cell_type": "markdown",
      "metadata": {
        "id": "60b3HNh5QkrZ"
      },
      "source": [
        "## Training & Games"
      ]
    },
    {
      "cell_type": "code",
      "metadata": {
        "id": "UAJS9lJH5H0O",
        "outputId": "1f3947db-fa17-4486-b89b-8e17d3ba007e",
        "colab": {
          "base_uri": "https://localhost:8080/",
          "height": 457
        }
      },
      "source": [
        "# loading data from Google Drive\n",
        "data_full = pd.read_csv('/content/drive/My Drive/consulting/Rugby/GPS/data_full.csv')\n",
        "\n",
        "data_full.head()"
      ],
      "execution_count": 2,
      "outputs": [
        {
          "output_type": "execute_result",
          "data": {
            "text/html": [
              "<div>\n",
              "<style scoped>\n",
              "    .dataframe tbody tr th:only-of-type {\n",
              "        vertical-align: middle;\n",
              "    }\n",
              "\n",
              "    .dataframe tbody tr th {\n",
              "        vertical-align: top;\n",
              "    }\n",
              "\n",
              "    .dataframe thead th {\n",
              "        text-align: right;\n",
              "    }\n",
              "</style>\n",
              "<table border=\"1\" class=\"dataframe\">\n",
              "  <thead>\n",
              "    <tr style=\"text-align: right;\">\n",
              "      <th></th>\n",
              "      <th>Athlete</th>\n",
              "      <th>Position</th>\n",
              "      <th>Date</th>\n",
              "      <th>Session</th>\n",
              "      <th>Drill</th>\n",
              "      <th>Weeks</th>\n",
              "      <th>Duration</th>\n",
              "      <th>Day Code</th>\n",
              "      <th>Participation</th>\n",
              "      <th>Squad</th>\n",
              "      <th>S-RPE</th>\n",
              "      <th>RPE</th>\n",
              "      <th>Distance</th>\n",
              "      <th>Distance Zone 1</th>\n",
              "      <th>Distance Zone 2</th>\n",
              "      <th>Distance Zone 3</th>\n",
              "      <th>Distance Zone 4</th>\n",
              "      <th>Distance Zone 5</th>\n",
              "      <th>Distance Zone 6</th>\n",
              "      <th>marche</th>\n",
              "      <th>LSR</th>\n",
              "      <th>HSR</th>\n",
              "      <th>VHSR</th>\n",
              "      <th>Max Speed</th>\n",
              "      <th>M.min</th>\n",
              "      <th>Max HR</th>\n",
              "      <th>Avg HR</th>\n",
              "      <th>HR Exertion</th>\n",
              "      <th>Time in HR Zone 1</th>\n",
              "      <th>Time in HR Zone 2</th>\n",
              "      <th>Time in HR Zone 3</th>\n",
              "      <th>Time in HR Zone 4</th>\n",
              "      <th>Time in HR Zone 5</th>\n",
              "      <th>Time in HR Zone 6</th>\n",
              "      <th>TPS &gt;85%HR</th>\n",
              "      <th>% TPS &gt;85%HR</th>\n",
              "      <th>Speed Exertion</th>\n",
              "      <th>Sprint Count</th>\n",
              "      <th>Accelerations Zone 1</th>\n",
              "      <th>Accelerations Zone 2</th>\n",
              "      <th>...</th>\n",
              "      <th>impact 1 + 2</th>\n",
              "      <th>Impacts Zone 3</th>\n",
              "      <th>Impacts Zone 4</th>\n",
              "      <th>impact 3+ 4</th>\n",
              "      <th>Impacts Zone 5</th>\n",
              "      <th>Impacts Zone 6</th>\n",
              "      <th>impact 5+ 6</th>\n",
              "      <th>Collisions</th>\n",
              "      <th>Running Series</th>\n",
              "      <th>Running Imbalance</th>\n",
              "      <th>Running Imbalance Standard Deviation</th>\n",
              "      <th>Running Symmetry Footstrikes</th>\n",
              "      <th>Metabolic Load Time Zone 1</th>\n",
              "      <th>Metabolic Load Time Zone 2</th>\n",
              "      <th>Metabolic Load Time Zone 3</th>\n",
              "      <th>Metabolic Load Time Zone 4</th>\n",
              "      <th>Metabolic Load Time Zone 5</th>\n",
              "      <th>Metabolic Load (relative)</th>\n",
              "      <th>Metabolic Power Average</th>\n",
              "      <th>High-Metabolic-Power Distance</th>\n",
              "      <th>VHMPD</th>\n",
              "      <th>Equivalent Distance</th>\n",
              "      <th>Metabolic Load Distance Zone 1</th>\n",
              "      <th>Metabolic Load Distance Zone 2</th>\n",
              "      <th>Metabolic Load Distance Zone 3</th>\n",
              "      <th>Metabolic Load Distance Zone 4</th>\n",
              "      <th>Metabolic Load Distance Zone 5</th>\n",
              "      <th>Metabolic Load (absolute)</th>\n",
              "      <th>Temperature</th>\n",
              "      <th>Weather</th>\n",
              "      <th>Grass</th>\n",
              "      <th>Sprint Total Distance</th>\n",
              "      <th>Sum_AD</th>\n",
              "      <th>HSR.min</th>\n",
              "      <th>SpTD.min</th>\n",
              "      <th>Sum_AD.min</th>\n",
              "      <th>Impacts.min</th>\n",
              "      <th>Type</th>\n",
              "      <th>HMPD.min</th>\n",
              "      <th>Sp_acc</th>\n",
              "    </tr>\n",
              "  </thead>\n",
              "  <tbody>\n",
              "    <tr>\n",
              "      <th>0</th>\n",
              "      <td>athlete 1</td>\n",
              "      <td>2è ligne</td>\n",
              "      <td>2014-07-21T00:00:00Z</td>\n",
              "      <td>sep avants j-2 rep</td>\n",
              "      <td>Touche</td>\n",
              "      <td>5</td>\n",
              "      <td>52.38</td>\n",
              "      <td>day 1</td>\n",
              "      <td>Full</td>\n",
              "      <td>Forwards</td>\n",
              "      <td>157.14</td>\n",
              "      <td>3.0</td>\n",
              "      <td>1205.27</td>\n",
              "      <td>751.48</td>\n",
              "      <td>196.96</td>\n",
              "      <td>220.08</td>\n",
              "      <td>36.75</td>\n",
              "      <td>0.00</td>\n",
              "      <td>0.0</td>\n",
              "      <td>751.48</td>\n",
              "      <td>417.04</td>\n",
              "      <td>36.75</td>\n",
              "      <td>0.00</td>\n",
              "      <td>18.72</td>\n",
              "      <td>23.010118</td>\n",
              "      <td>183.0</td>\n",
              "      <td>139.72</td>\n",
              "      <td>152.72</td>\n",
              "      <td>9.29</td>\n",
              "      <td>7.11</td>\n",
              "      <td>16.67</td>\n",
              "      <td>17.36</td>\n",
              "      <td>1.69</td>\n",
              "      <td>0.27</td>\n",
              "      <td>1.96</td>\n",
              "      <td>0.037412</td>\n",
              "      <td>3387.8</td>\n",
              "      <td>0.0</td>\n",
              "      <td>1.0</td>\n",
              "      <td>0.0</td>\n",
              "      <td>...</td>\n",
              "      <td>51.0</td>\n",
              "      <td>15.0</td>\n",
              "      <td>7.0</td>\n",
              "      <td>22.0</td>\n",
              "      <td>2.0</td>\n",
              "      <td>9.0</td>\n",
              "      <td>11.0</td>\n",
              "      <td>0.0</td>\n",
              "      <td>4.0</td>\n",
              "      <td>0.7</td>\n",
              "      <td>6.8</td>\n",
              "      <td>55.0</td>\n",
              "      <td>49.6</td>\n",
              "      <td>2.1</td>\n",
              "      <td>0.5</td>\n",
              "      <td>0.2</td>\n",
              "      <td>0.1</td>\n",
              "      <td>6.9</td>\n",
              "      <td>2.2</td>\n",
              "      <td>134.2</td>\n",
              "      <td>49.3</td>\n",
              "      <td>1481.6</td>\n",
              "      <td>764.5</td>\n",
              "      <td>306.6</td>\n",
              "      <td>84.9</td>\n",
              "      <td>35.9</td>\n",
              "      <td>13.4</td>\n",
              "      <td>750.0</td>\n",
              "      <td>Unknown</td>\n",
              "      <td>Unknown</td>\n",
              "      <td>Unknown</td>\n",
              "      <td>0.0</td>\n",
              "      <td>0.0</td>\n",
              "      <td>0.701604</td>\n",
              "      <td>0.0</td>\n",
              "      <td>0.0</td>\n",
              "      <td>0.171821</td>\n",
              "      <td>Training</td>\n",
              "      <td>2.562047</td>\n",
              "      <td>0.0</td>\n",
              "    </tr>\n",
              "    <tr>\n",
              "      <th>1</th>\n",
              "      <td>athlete 1</td>\n",
              "      <td>2è ligne</td>\n",
              "      <td>2014-07-21T00:00:00Z</td>\n",
              "      <td>coll j-2 rep</td>\n",
              "      <td>Ateliers technique</td>\n",
              "      <td>5</td>\n",
              "      <td>97.65</td>\n",
              "      <td>day 1</td>\n",
              "      <td>Full</td>\n",
              "      <td>Forwards</td>\n",
              "      <td>683.55</td>\n",
              "      <td>7.0</td>\n",
              "      <td>4674.08</td>\n",
              "      <td>2432.61</td>\n",
              "      <td>1065.51</td>\n",
              "      <td>833.21</td>\n",
              "      <td>318.12</td>\n",
              "      <td>24.64</td>\n",
              "      <td>0.0</td>\n",
              "      <td>2432.61</td>\n",
              "      <td>1898.72</td>\n",
              "      <td>342.76</td>\n",
              "      <td>24.64</td>\n",
              "      <td>22.75</td>\n",
              "      <td>47.865643</td>\n",
              "      <td>199.0</td>\n",
              "      <td>143.51</td>\n",
              "      <td>453.83</td>\n",
              "      <td>18.43</td>\n",
              "      <td>12.45</td>\n",
              "      <td>23.05</td>\n",
              "      <td>25.53</td>\n",
              "      <td>16.24</td>\n",
              "      <td>1.95</td>\n",
              "      <td>18.19</td>\n",
              "      <td>0.186278</td>\n",
              "      <td>7030.6</td>\n",
              "      <td>0.0</td>\n",
              "      <td>1.0</td>\n",
              "      <td>0.0</td>\n",
              "      <td>...</td>\n",
              "      <td>250.0</td>\n",
              "      <td>31.0</td>\n",
              "      <td>32.0</td>\n",
              "      <td>63.0</td>\n",
              "      <td>18.0</td>\n",
              "      <td>25.0</td>\n",
              "      <td>43.0</td>\n",
              "      <td>1.0</td>\n",
              "      <td>7.0</td>\n",
              "      <td>2.3</td>\n",
              "      <td>2.9</td>\n",
              "      <td>97.0</td>\n",
              "      <td>54.9</td>\n",
              "      <td>13.7</td>\n",
              "      <td>12.8</td>\n",
              "      <td>6.1</td>\n",
              "      <td>10.1</td>\n",
              "      <td>143.4</td>\n",
              "      <td>24.5</td>\n",
              "      <td>3310.4</td>\n",
              "      <td>2241.9</td>\n",
              "      <td>30881.0</td>\n",
              "      <td>439.4</td>\n",
              "      <td>923.9</td>\n",
              "      <td>1068.5</td>\n",
              "      <td>652.6</td>\n",
              "      <td>1589.3</td>\n",
              "      <td>15631.9</td>\n",
              "      <td>Unknown</td>\n",
              "      <td>Unknown</td>\n",
              "      <td>Unknown</td>\n",
              "      <td>0.0</td>\n",
              "      <td>0.0</td>\n",
              "      <td>3.510087</td>\n",
              "      <td>0.0</td>\n",
              "      <td>0.0</td>\n",
              "      <td>0.256016</td>\n",
              "      <td>Training</td>\n",
              "      <td>33.900666</td>\n",
              "      <td>0.0</td>\n",
              "    </tr>\n",
              "    <tr>\n",
              "      <th>2</th>\n",
              "      <td>athlete 1</td>\n",
              "      <td>2è ligne</td>\n",
              "      <td>2014-07-28T00:00:00Z</td>\n",
              "      <td>sep avants j-3 rep g2</td>\n",
              "      <td>Touche</td>\n",
              "      <td>6</td>\n",
              "      <td>43.85</td>\n",
              "      <td>day 1</td>\n",
              "      <td>Full</td>\n",
              "      <td>Forwards</td>\n",
              "      <td>175.40</td>\n",
              "      <td>4.0</td>\n",
              "      <td>1488.11</td>\n",
              "      <td>916.59</td>\n",
              "      <td>318.01</td>\n",
              "      <td>235.15</td>\n",
              "      <td>18.36</td>\n",
              "      <td>0.00</td>\n",
              "      <td>0.0</td>\n",
              "      <td>916.59</td>\n",
              "      <td>553.16</td>\n",
              "      <td>18.36</td>\n",
              "      <td>0.00</td>\n",
              "      <td>18.47</td>\n",
              "      <td>33.936374</td>\n",
              "      <td>176.0</td>\n",
              "      <td>140.96</td>\n",
              "      <td>124.67</td>\n",
              "      <td>3.47</td>\n",
              "      <td>9.78</td>\n",
              "      <td>16.94</td>\n",
              "      <td>11.16</td>\n",
              "      <td>2.45</td>\n",
              "      <td>0.05</td>\n",
              "      <td>2.50</td>\n",
              "      <td>0.057013</td>\n",
              "      <td>2924.0</td>\n",
              "      <td>0.0</td>\n",
              "      <td>1.0</td>\n",
              "      <td>0.0</td>\n",
              "      <td>...</td>\n",
              "      <td>48.0</td>\n",
              "      <td>10.0</td>\n",
              "      <td>8.0</td>\n",
              "      <td>18.0</td>\n",
              "      <td>2.0</td>\n",
              "      <td>10.0</td>\n",
              "      <td>12.0</td>\n",
              "      <td>0.0</td>\n",
              "      <td>4.0</td>\n",
              "      <td>3.1</td>\n",
              "      <td>2.8</td>\n",
              "      <td>73.0</td>\n",
              "      <td>41.8</td>\n",
              "      <td>1.5</td>\n",
              "      <td>0.4</td>\n",
              "      <td>0.1</td>\n",
              "      <td>0.0</td>\n",
              "      <td>7.2</td>\n",
              "      <td>2.7</td>\n",
              "      <td>103.5</td>\n",
              "      <td>25.5</td>\n",
              "      <td>1547.9</td>\n",
              "      <td>1113.5</td>\n",
              "      <td>271.1</td>\n",
              "      <td>78.0</td>\n",
              "      <td>22.2</td>\n",
              "      <td>3.3</td>\n",
              "      <td>783.5</td>\n",
              "      <td>Unknown</td>\n",
              "      <td>Unknown</td>\n",
              "      <td>Unknown</td>\n",
              "      <td>0.0</td>\n",
              "      <td>0.0</td>\n",
              "      <td>0.418700</td>\n",
              "      <td>0.0</td>\n",
              "      <td>0.0</td>\n",
              "      <td>0.228050</td>\n",
              "      <td>Training</td>\n",
              "      <td>2.360319</td>\n",
              "      <td>0.0</td>\n",
              "    </tr>\n",
              "    <tr>\n",
              "      <th>3</th>\n",
              "      <td>athlete 1</td>\n",
              "      <td>2è ligne</td>\n",
              "      <td>2014-07-28T00:00:00Z</td>\n",
              "      <td>coll j-3 rep</td>\n",
              "      <td>Ateliers technique</td>\n",
              "      <td>6</td>\n",
              "      <td>70.68</td>\n",
              "      <td>day 1</td>\n",
              "      <td>Full</td>\n",
              "      <td>Forwards</td>\n",
              "      <td>353.40</td>\n",
              "      <td>5.0</td>\n",
              "      <td>4382.54</td>\n",
              "      <td>2255.20</td>\n",
              "      <td>1155.82</td>\n",
              "      <td>615.73</td>\n",
              "      <td>261.86</td>\n",
              "      <td>93.92</td>\n",
              "      <td>0.0</td>\n",
              "      <td>2255.20</td>\n",
              "      <td>1771.55</td>\n",
              "      <td>355.78</td>\n",
              "      <td>93.92</td>\n",
              "      <td>23.00</td>\n",
              "      <td>62.005376</td>\n",
              "      <td>178.0</td>\n",
              "      <td>138.38</td>\n",
              "      <td>181.00</td>\n",
              "      <td>11.54</td>\n",
              "      <td>10.87</td>\n",
              "      <td>25.93</td>\n",
              "      <td>21.09</td>\n",
              "      <td>1.19</td>\n",
              "      <td>0.07</td>\n",
              "      <td>1.26</td>\n",
              "      <td>0.017824</td>\n",
              "      <td>5348.2</td>\n",
              "      <td>0.0</td>\n",
              "      <td>1.0</td>\n",
              "      <td>0.0</td>\n",
              "      <td>...</td>\n",
              "      <td>193.0</td>\n",
              "      <td>31.0</td>\n",
              "      <td>36.0</td>\n",
              "      <td>67.0</td>\n",
              "      <td>7.0</td>\n",
              "      <td>11.0</td>\n",
              "      <td>18.0</td>\n",
              "      <td>0.0</td>\n",
              "      <td>2.0</td>\n",
              "      <td>-0.9</td>\n",
              "      <td>1.1</td>\n",
              "      <td>45.0</td>\n",
              "      <td>64.2</td>\n",
              "      <td>3.9</td>\n",
              "      <td>1.7</td>\n",
              "      <td>0.7</td>\n",
              "      <td>0.2</td>\n",
              "      <td>21.3</td>\n",
              "      <td>5.0</td>\n",
              "      <td>577.4</td>\n",
              "      <td>214.5</td>\n",
              "      <td>4584.1</td>\n",
              "      <td>3083.4</td>\n",
              "      <td>721.7</td>\n",
              "      <td>362.9</td>\n",
              "      <td>169.2</td>\n",
              "      <td>45.3</td>\n",
              "      <td>2320.4</td>\n",
              "      <td>Unknown</td>\n",
              "      <td>Unknown</td>\n",
              "      <td>Unknown</td>\n",
              "      <td>0.0</td>\n",
              "      <td>0.0</td>\n",
              "      <td>5.033673</td>\n",
              "      <td>0.0</td>\n",
              "      <td>0.0</td>\n",
              "      <td>0.155631</td>\n",
              "      <td>Training</td>\n",
              "      <td>8.169213</td>\n",
              "      <td>0.0</td>\n",
              "    </tr>\n",
              "    <tr>\n",
              "      <th>4</th>\n",
              "      <td>athlete 1</td>\n",
              "      <td>2è ligne</td>\n",
              "      <td>2014-07-22T00:00:00Z</td>\n",
              "      <td>sep avant j-1 rep</td>\n",
              "      <td>mélée et ballons lents</td>\n",
              "      <td>5</td>\n",
              "      <td>56.20</td>\n",
              "      <td>day 2</td>\n",
              "      <td>Full</td>\n",
              "      <td>Forwards</td>\n",
              "      <td>168.60</td>\n",
              "      <td>3.0</td>\n",
              "      <td>1755.01</td>\n",
              "      <td>1079.84</td>\n",
              "      <td>404.80</td>\n",
              "      <td>262.40</td>\n",
              "      <td>7.97</td>\n",
              "      <td>0.00</td>\n",
              "      <td>0.0</td>\n",
              "      <td>1079.84</td>\n",
              "      <td>667.20</td>\n",
              "      <td>7.97</td>\n",
              "      <td>0.00</td>\n",
              "      <td>18.00</td>\n",
              "      <td>31.227936</td>\n",
              "      <td>206.0</td>\n",
              "      <td>133.06</td>\n",
              "      <td>149.89</td>\n",
              "      <td>19.55</td>\n",
              "      <td>10.80</td>\n",
              "      <td>13.10</td>\n",
              "      <td>10.33</td>\n",
              "      <td>1.75</td>\n",
              "      <td>0.68</td>\n",
              "      <td>2.43</td>\n",
              "      <td>0.043231</td>\n",
              "      <td>3715.6</td>\n",
              "      <td>0.0</td>\n",
              "      <td>1.0</td>\n",
              "      <td>0.0</td>\n",
              "      <td>...</td>\n",
              "      <td>46.0</td>\n",
              "      <td>5.0</td>\n",
              "      <td>10.0</td>\n",
              "      <td>15.0</td>\n",
              "      <td>3.0</td>\n",
              "      <td>5.0</td>\n",
              "      <td>8.0</td>\n",
              "      <td>0.0</td>\n",
              "      <td>2.0</td>\n",
              "      <td>-2.1</td>\n",
              "      <td>1.7</td>\n",
              "      <td>35.0</td>\n",
              "      <td>38.0</td>\n",
              "      <td>5.5</td>\n",
              "      <td>6.5</td>\n",
              "      <td>2.7</td>\n",
              "      <td>3.5</td>\n",
              "      <td>52.4</td>\n",
              "      <td>15.5</td>\n",
              "      <td>1239.4</td>\n",
              "      <td>744.2</td>\n",
              "      <td>11272.6</td>\n",
              "      <td>152.8</td>\n",
              "      <td>362.8</td>\n",
              "      <td>495.2</td>\n",
              "      <td>261.5</td>\n",
              "      <td>482.7</td>\n",
              "      <td>5706.2</td>\n",
              "      <td>Unknown</td>\n",
              "      <td>Unknown</td>\n",
              "      <td>Unknown</td>\n",
              "      <td>0.0</td>\n",
              "      <td>0.0</td>\n",
              "      <td>0.141815</td>\n",
              "      <td>0.0</td>\n",
              "      <td>0.0</td>\n",
              "      <td>0.088968</td>\n",
              "      <td>Training</td>\n",
              "      <td>22.053381</td>\n",
              "      <td>0.0</td>\n",
              "    </tr>\n",
              "  </tbody>\n",
              "</table>\n",
              "<p>5 rows × 89 columns</p>\n",
              "</div>"
            ],
            "text/plain": [
              "     Athlete  Position                  Date  ...      Type   HMPD.min  Sp_acc\n",
              "0  athlete 1  2è ligne  2014-07-21T00:00:00Z  ...  Training   2.562047     0.0\n",
              "1  athlete 1  2è ligne  2014-07-21T00:00:00Z  ...  Training  33.900666     0.0\n",
              "2  athlete 1  2è ligne  2014-07-28T00:00:00Z  ...  Training   2.360319     0.0\n",
              "3  athlete 1  2è ligne  2014-07-28T00:00:00Z  ...  Training   8.169213     0.0\n",
              "4  athlete 1  2è ligne  2014-07-22T00:00:00Z  ...  Training  22.053381     0.0\n",
              "\n",
              "[5 rows x 89 columns]"
            ]
          },
          "metadata": {
            "tags": []
          },
          "execution_count": 2
        }
      ]
    },
    {
      "cell_type": "code",
      "metadata": {
        "id": "xzLuNa7e5iax",
        "outputId": "84866670-fb84-4b84-df5a-0d6f82d3e36a",
        "colab": {
          "base_uri": "https://localhost:8080/",
          "height": 34
        }
      },
      "source": [
        "# getting shape of data\n",
        "data_full.shape"
      ],
      "execution_count": 3,
      "outputs": [
        {
          "output_type": "execute_result",
          "data": {
            "text/plain": [
              "(2188, 89)"
            ]
          },
          "metadata": {
            "tags": []
          },
          "execution_count": 3
        }
      ]
    },
    {
      "cell_type": "code",
      "metadata": {
        "id": "gNNx2nu15mBF",
        "outputId": "98bd7365-792c-461c-b3df-9c5ef23cfed4",
        "colab": {
          "base_uri": "https://localhost:8080/",
          "height": 1000
        }
      },
      "source": [
        "# looking at features \n",
        "data_full.info()"
      ],
      "execution_count": 4,
      "outputs": [
        {
          "output_type": "stream",
          "text": [
            "<class 'pandas.core.frame.DataFrame'>\n",
            "RangeIndex: 2188 entries, 0 to 2187\n",
            "Data columns (total 89 columns):\n",
            " #   Column                                Non-Null Count  Dtype  \n",
            "---  ------                                --------------  -----  \n",
            " 0   Athlete                               2188 non-null   object \n",
            " 1   Position                              2188 non-null   object \n",
            " 2   Date                                  2188 non-null   object \n",
            " 3   Session                               2188 non-null   object \n",
            " 4   Drill                                 2188 non-null   object \n",
            " 5   Weeks                                 2188 non-null   int64  \n",
            " 6   Duration                              2188 non-null   float64\n",
            " 7   Day Code                              2188 non-null   object \n",
            " 8   Participation                         2188 non-null   object \n",
            " 9   Squad                                 2188 non-null   object \n",
            " 10  S-RPE                                 2188 non-null   float64\n",
            " 11  RPE                                   2188 non-null   float64\n",
            " 12  Distance                              2188 non-null   float64\n",
            " 13  Distance Zone 1                       2188 non-null   float64\n",
            " 14  Distance Zone 2                       2188 non-null   float64\n",
            " 15  Distance Zone 3                       2188 non-null   float64\n",
            " 16  Distance Zone 4                       2188 non-null   float64\n",
            " 17  Distance Zone 5                       2188 non-null   float64\n",
            " 18  Distance Zone 6                       2188 non-null   float64\n",
            " 19  marche                                2188 non-null   float64\n",
            " 20  LSR                                   2188 non-null   float64\n",
            " 21  HSR                                   2188 non-null   float64\n",
            " 22  VHSR                                  2188 non-null   float64\n",
            " 23  Max Speed                             2188 non-null   float64\n",
            " 24  M.min                                 2188 non-null   float64\n",
            " 25  Max HR                                2188 non-null   float64\n",
            " 26  Avg HR                                2188 non-null   float64\n",
            " 27  HR Exertion                           2188 non-null   float64\n",
            " 28  Time in HR Zone 1                     2188 non-null   float64\n",
            " 29  Time in HR Zone 2                     2188 non-null   float64\n",
            " 30  Time in HR Zone 3                     2188 non-null   float64\n",
            " 31  Time in HR Zone 4                     2188 non-null   float64\n",
            " 32  Time in HR Zone 5                     2188 non-null   float64\n",
            " 33  Time in HR Zone 6                     2188 non-null   float64\n",
            " 34  TPS >85%HR                            2188 non-null   float64\n",
            " 35  % TPS >85%HR                          2188 non-null   float64\n",
            " 36  Speed Exertion                        2188 non-null   float64\n",
            " 37  Sprint Count                          2188 non-null   float64\n",
            " 38  Accelerations Zone 1                  2188 non-null   float64\n",
            " 39  Accelerations Zone 2                  2188 non-null   float64\n",
            " 40  Accelerations Zone 3                  2188 non-null   float64\n",
            " 41  Acc >2,5m/s²                          2188 non-null   float64\n",
            " 42  Decelerations Zone 1                  2188 non-null   float64\n",
            " 43  Decelerations Zone 2                  2188 non-null   float64\n",
            " 44  Decelerations Zone 3                  2188 non-null   float64\n",
            " 45  Dec <-2,5m/s²                         2188 non-null   float64\n",
            " 46  New Bodyload                          2188 non-null   float64\n",
            " 47  Impacts Zone 1                        2188 non-null   float64\n",
            " 48  Impacts Zone 2                        2188 non-null   float64\n",
            " 49  impact 1 + 2                          2188 non-null   float64\n",
            " 50  Impacts Zone 3                        2188 non-null   float64\n",
            " 51  Impacts Zone 4                        2188 non-null   float64\n",
            " 52  impact 3+ 4                           2188 non-null   float64\n",
            " 53  Impacts Zone 5                        2188 non-null   float64\n",
            " 54  Impacts Zone 6                        2188 non-null   float64\n",
            " 55  impact 5+ 6                           2188 non-null   float64\n",
            " 56  Collisions                            2188 non-null   float64\n",
            " 57  Running Series                        2188 non-null   float64\n",
            " 58  Running Imbalance                     2188 non-null   float64\n",
            " 59  Running Imbalance Standard Deviation  2188 non-null   float64\n",
            " 60  Running Symmetry Footstrikes          2188 non-null   float64\n",
            " 61  Metabolic Load Time Zone 1            2188 non-null   float64\n",
            " 62  Metabolic Load Time Zone 2            2188 non-null   float64\n",
            " 63  Metabolic Load Time Zone 3            2188 non-null   float64\n",
            " 64  Metabolic Load Time Zone 4            2188 non-null   float64\n",
            " 65  Metabolic Load Time Zone 5            2188 non-null   float64\n",
            " 66  Metabolic Load (relative)             2188 non-null   float64\n",
            " 67  Metabolic Power Average               2188 non-null   float64\n",
            " 68  High-Metabolic-Power Distance         2188 non-null   float64\n",
            " 69  VHMPD                                 2188 non-null   float64\n",
            " 70  Equivalent Distance                   2188 non-null   float64\n",
            " 71  Metabolic Load Distance Zone 1        2188 non-null   float64\n",
            " 72  Metabolic Load Distance Zone 2        2188 non-null   float64\n",
            " 73  Metabolic Load Distance Zone 3        2188 non-null   float64\n",
            " 74  Metabolic Load Distance Zone 4        2188 non-null   float64\n",
            " 75  Metabolic Load Distance Zone 5        2188 non-null   float64\n",
            " 76  Metabolic Load (absolute)             2188 non-null   float64\n",
            " 77  Temperature                           2188 non-null   object \n",
            " 78  Weather                               2188 non-null   object \n",
            " 79  Grass                                 2188 non-null   object \n",
            " 80  Sprint Total Distance                 2188 non-null   float64\n",
            " 81  Sum_AD                                2188 non-null   float64\n",
            " 82  HSR.min                               2188 non-null   float64\n",
            " 83  SpTD.min                              2188 non-null   float64\n",
            " 84  Sum_AD.min                            2188 non-null   float64\n",
            " 85  Impacts.min                           2188 non-null   float64\n",
            " 86  Type                                  2188 non-null   object \n",
            " 87  HMPD.min                              2188 non-null   float64\n",
            " 88  Sp_acc                                2188 non-null   float64\n",
            "dtypes: float64(76), int64(1), object(12)\n",
            "memory usage: 1.5+ MB\n"
          ],
          "name": "stdout"
        }
      ]
    },
    {
      "cell_type": "code",
      "metadata": {
        "id": "a0kJUGxF7rD5",
        "outputId": "98b6ca9c-27fc-4e38-bd24-151b7d0be01d",
        "colab": {
          "base_uri": "https://localhost:8080/",
          "height": 34
        }
      },
      "source": [
        "# Checking for NA\n",
        "data_full.isna().sum().sum()"
      ],
      "execution_count": 5,
      "outputs": [
        {
          "output_type": "execute_result",
          "data": {
            "text/plain": [
              "0"
            ]
          },
          "metadata": {
            "tags": []
          },
          "execution_count": 5
        }
      ]
    },
    {
      "cell_type": "markdown",
      "metadata": {
        "id": "Wt43KZPvQp9I"
      },
      "source": [
        "## Training phases"
      ]
    },
    {
      "cell_type": "code",
      "metadata": {
        "id": "omvlzS-nQxmT",
        "outputId": "ee15a3c4-af67-4046-d92e-899470d10821",
        "colab": {
          "base_uri": "https://localhost:8080/",
          "height": 377
        }
      },
      "source": [
        "# loading data\n",
        "data_phases = pd.read_csv('/content/drive/My Drive/consulting/Rugby/GPS/GPS-phases.xlsx - coll.csv')\n",
        "\n",
        "data_phases.head(5)"
      ],
      "execution_count": 6,
      "outputs": [
        {
          "output_type": "execute_result",
          "data": {
            "text/html": [
              "<div>\n",
              "<style scoped>\n",
              "    .dataframe tbody tr th:only-of-type {\n",
              "        vertical-align: middle;\n",
              "    }\n",
              "\n",
              "    .dataframe tbody tr th {\n",
              "        vertical-align: top;\n",
              "    }\n",
              "\n",
              "    .dataframe thead th {\n",
              "        text-align: right;\n",
              "    }\n",
              "</style>\n",
              "<table border=\"1\" class=\"dataframe\">\n",
              "  <thead>\n",
              "    <tr style=\"text-align: right;\">\n",
              "      <th></th>\n",
              "      <th>Session</th>\n",
              "      <th>Drill</th>\n",
              "      <th>Athlete</th>\n",
              "      <th>Position</th>\n",
              "      <th>Target</th>\n",
              "      <th>Date</th>\n",
              "      <th>Weeks</th>\n",
              "      <th>Duration</th>\n",
              "      <th>Day Code</th>\n",
              "      <th>Participation</th>\n",
              "      <th>Zone</th>\n",
              "      <th>Squad</th>\n",
              "      <th>HR Training EFfect</th>\n",
              "      <th>Session RPE</th>\n",
              "      <th>Distance</th>\n",
              "      <th>Distance Zone 1</th>\n",
              "      <th>Distance Zone 2</th>\n",
              "      <th>Distance Zone 3</th>\n",
              "      <th>Distance Zone 4</th>\n",
              "      <th>Distance Zone 5</th>\n",
              "      <th>Distance Zone 6</th>\n",
              "      <th>Max Speed</th>\n",
              "      <th>Avg Speed</th>\n",
              "      <th>Max HR</th>\n",
              "      <th>Avg HR</th>\n",
              "      <th>HR Exertion</th>\n",
              "      <th>Time in HR Zone 1</th>\n",
              "      <th>Time in HR Zone 2</th>\n",
              "      <th>Time in HR Zone 3</th>\n",
              "      <th>Time in HR Zone 4</th>\n",
              "      <th>Time in HR Zone 5</th>\n",
              "      <th>Time in HR Zone 6</th>\n",
              "      <th>Speed Exertion</th>\n",
              "      <th>Sprint Count</th>\n",
              "      <th>Accelerations Zone 1</th>\n",
              "      <th>Accelerations Zone 2</th>\n",
              "      <th>Accelerations Zone 3</th>\n",
              "      <th>Decelerations Zone 1</th>\n",
              "      <th>Decelerations Zone 2</th>\n",
              "      <th>Decelerations Zone 3</th>\n",
              "      <th>New Bodyload</th>\n",
              "      <th>Impacts Zone 1</th>\n",
              "      <th>Impacts Zone 2</th>\n",
              "      <th>Impacts Zone 3</th>\n",
              "      <th>Impacts Zone 4</th>\n",
              "      <th>Impacts Zone 5</th>\n",
              "      <th>Impacts Zone 6</th>\n",
              "      <th>Collisions</th>\n",
              "      <th>Running Series</th>\n",
              "      <th>Running Imbalance</th>\n",
              "      <th>Running Imbalance Standard Deviation</th>\n",
              "      <th>Running Symmetry Footstrikes</th>\n",
              "      <th>Metabolic Load Time Zone 1</th>\n",
              "      <th>Metabolic Load Time Zone 2</th>\n",
              "      <th>Metabolic Load Time Zone 3</th>\n",
              "      <th>Metabolic Load Time Zone 4</th>\n",
              "      <th>Metabolic Load Time Zone 5</th>\n",
              "      <th>Metabolic Load (relative)</th>\n",
              "      <th>Metabolic Power Average</th>\n",
              "      <th>High-Metabolic-Power Distance</th>\n",
              "      <th>Equivalent Distance</th>\n",
              "      <th>Metabolic Load Distance Zone 1</th>\n",
              "      <th>Metabolic Load Distance Zone 2</th>\n",
              "      <th>Metabolic Load Distance Zone 3</th>\n",
              "      <th>Metabolic Load Distance Zone 4</th>\n",
              "      <th>Metabolic Load Distance Zone 5</th>\n",
              "      <th>Metabolic Load (absolute)\"</th>\n",
              "      <th>Repeat Sprints</th>\n",
              "      <th>Unnamed: 68</th>\n",
              "      <th>Unnamed: 69</th>\n",
              "      <th>Unnamed: 70</th>\n",
              "      <th>Unnamed: 71</th>\n",
              "      <th>Unnamed: 72</th>\n",
              "    </tr>\n",
              "  </thead>\n",
              "  <tbody>\n",
              "    <tr>\n",
              "      <th>0</th>\n",
              "      <td>Sep j-1 rep</td>\n",
              "      <td>NaN</td>\n",
              "      <td>NaN</td>\n",
              "      <td>NaN</td>\n",
              "      <td>NaN</td>\n",
              "      <td>21/7</td>\n",
              "      <td>5.0</td>\n",
              "      <td>53,2</td>\n",
              "      <td>Day 1</td>\n",
              "      <td>NaN</td>\n",
              "      <td>NaN</td>\n",
              "      <td>Team</td>\n",
              "      <td>199,5</td>\n",
              "      <td>3,8</td>\n",
              "      <td>1492,5</td>\n",
              "      <td>858,1</td>\n",
              "      <td>223,5</td>\n",
              "      <td>176,7</td>\n",
              "      <td>134,4</td>\n",
              "      <td>93,6</td>\n",
              "      <td>6,2</td>\n",
              "      <td>20,1</td>\n",
              "      <td>28,2</td>\n",
              "      <td>188,4</td>\n",
              "      <td>124,9</td>\n",
              "      <td>120,8</td>\n",
              "      <td>30,9</td>\n",
              "      <td>9,4</td>\n",
              "      <td>9,3</td>\n",
              "      <td>6,4</td>\n",
              "      <td>1,6</td>\n",
              "      <td>0,7</td>\n",
              "      <td>3848,5</td>\n",
              "      <td>0,3</td>\n",
              "      <td>21,3</td>\n",
              "      <td>7,5</td>\n",
              "      <td>4,1</td>\n",
              "      <td>11,6</td>\n",
              "      <td>3,0</td>\n",
              "      <td>0,8</td>\n",
              "      <td>30,4</td>\n",
              "      <td>137,9</td>\n",
              "      <td>42,9</td>\n",
              "      <td>27,0</td>\n",
              "      <td>17,3</td>\n",
              "      <td>8,2</td>\n",
              "      <td>8,0</td>\n",
              "      <td>0,1</td>\n",
              "      <td>1,6</td>\n",
              "      <td>0,4</td>\n",
              "      <td>1,3</td>\n",
              "      <td>18,0</td>\n",
              "      <td>55,6</td>\n",
              "      <td>1,5</td>\n",
              "      <td>0,7</td>\n",
              "      <td>0,4</td>\n",
              "      <td>0,2</td>\n",
              "      <td>8,2</td>\n",
              "      <td>2,5</td>\n",
              "      <td>289,9</td>\n",
              "      <td>1778,8</td>\n",
              "      <td>959,3</td>\n",
              "      <td>242,8</td>\n",
              "      <td>140,0</td>\n",
              "      <td>93,0</td>\n",
              "      <td>56,9</td>\n",
              "      <td>797,1</td>\n",
              "      <td>0,0</td>\n",
              "      <td>NaN</td>\n",
              "      <td>NaN</td>\n",
              "      <td>NaN</td>\n",
              "      <td>NaN</td>\n",
              "      <td>NaN</td>\n",
              "    </tr>\n",
              "    <tr>\n",
              "      <th>1</th>\n",
              "      <td>Coll j-2 rep</td>\n",
              "      <td>NaN</td>\n",
              "      <td>NaN</td>\n",
              "      <td>NaN</td>\n",
              "      <td>NaN</td>\n",
              "      <td>21/7</td>\n",
              "      <td>5.0</td>\n",
              "      <td>98,7</td>\n",
              "      <td>Day 1</td>\n",
              "      <td>NaN</td>\n",
              "      <td>NaN</td>\n",
              "      <td>Team</td>\n",
              "      <td>552,4</td>\n",
              "      <td>5,6</td>\n",
              "      <td>4422,4</td>\n",
              "      <td>2421,5</td>\n",
              "      <td>985,4</td>\n",
              "      <td>611,0</td>\n",
              "      <td>296,1</td>\n",
              "      <td>85,2</td>\n",
              "      <td>23,3</td>\n",
              "      <td>24,9</td>\n",
              "      <td>2,7</td>\n",
              "      <td>193,3</td>\n",
              "      <td>137,1</td>\n",
              "      <td>470,1</td>\n",
              "      <td>44,9</td>\n",
              "      <td>13,6</td>\n",
              "      <td>14,5</td>\n",
              "      <td>14,2</td>\n",
              "      <td>10,9</td>\n",
              "      <td>5,5</td>\n",
              "      <td>7264,3</td>\n",
              "      <td>0,8</td>\n",
              "      <td>0,8</td>\n",
              "      <td>0,0</td>\n",
              "      <td>0,0</td>\n",
              "      <td>0,2</td>\n",
              "      <td>0,0</td>\n",
              "      <td>0,0</td>\n",
              "      <td>82,3</td>\n",
              "      <td>449,5</td>\n",
              "      <td>113,6</td>\n",
              "      <td>47,0</td>\n",
              "      <td>41,3</td>\n",
              "      <td>16,9</td>\n",
              "      <td>20,9</td>\n",
              "      <td>0,9</td>\n",
              "      <td>4,8</td>\n",
              "      <td>0,0</td>\n",
              "      <td>2,3</td>\n",
              "      <td>66,0</td>\n",
              "      <td>62,2</td>\n",
              "      <td>16,1</td>\n",
              "      <td>12,1</td>\n",
              "      <td>5,1</td>\n",
              "      <td>8,1</td>\n",
              "      <td>103,2</td>\n",
              "      <td>17,4</td>\n",
              "      <td>2891,8</td>\n",
              "      <td>22222,6</td>\n",
              "      <td>457,7</td>\n",
              "      <td>1072,4</td>\n",
              "      <td>1014,6</td>\n",
              "      <td>556,6</td>\n",
              "      <td>1320,5</td>\n",
              "      <td>10321,5</td>\n",
              "      <td>0,0</td>\n",
              "      <td>NaN</td>\n",
              "      <td>NaN</td>\n",
              "      <td>NaN</td>\n",
              "      <td>NaN</td>\n",
              "      <td>NaN</td>\n",
              "    </tr>\n",
              "    <tr>\n",
              "      <th>2</th>\n",
              "      <td>Jour J2-rep</td>\n",
              "      <td>2,0</td>\n",
              "      <td>NaN</td>\n",
              "      <td>NaN</td>\n",
              "      <td>NaN</td>\n",
              "      <td>21/7</td>\n",
              "      <td>5.0</td>\n",
              "      <td>151,9</td>\n",
              "      <td>day 1</td>\n",
              "      <td>NaN</td>\n",
              "      <td>NaN</td>\n",
              "      <td>Team</td>\n",
              "      <td>751,9</td>\n",
              "      <td>5,0</td>\n",
              "      <td>5914,9</td>\n",
              "      <td>3279,6</td>\n",
              "      <td>1208,9</td>\n",
              "      <td>787,7</td>\n",
              "      <td>430,5</td>\n",
              "      <td>178,8</td>\n",
              "      <td>29,5</td>\n",
              "      <td>24,9</td>\n",
              "      <td>39,0</td>\n",
              "      <td>193,3</td>\n",
              "      <td>131,0</td>\n",
              "      <td>590,8</td>\n",
              "      <td>75,8</td>\n",
              "      <td>23,0</td>\n",
              "      <td>23,8</td>\n",
              "      <td>20,6</td>\n",
              "      <td>12,5</td>\n",
              "      <td>6,2</td>\n",
              "      <td>11112,8</td>\n",
              "      <td>1,1</td>\n",
              "      <td>22,1</td>\n",
              "      <td>7,5</td>\n",
              "      <td>4,1</td>\n",
              "      <td>11,8</td>\n",
              "      <td>3,0</td>\n",
              "      <td>0,8</td>\n",
              "      <td>112,7</td>\n",
              "      <td>587,4</td>\n",
              "      <td>156,5</td>\n",
              "      <td>74,0</td>\n",
              "      <td>58,6</td>\n",
              "      <td>25,1</td>\n",
              "      <td>28,9</td>\n",
              "      <td>1,0</td>\n",
              "      <td>6,4</td>\n",
              "      <td>0,4</td>\n",
              "      <td>3,6</td>\n",
              "      <td>84,0</td>\n",
              "      <td>117,8</td>\n",
              "      <td>17,6</td>\n",
              "      <td>12,8</td>\n",
              "      <td>5,5</td>\n",
              "      <td>8,3</td>\n",
              "      <td>111,4</td>\n",
              "      <td>19,9</td>\n",
              "      <td>3181,7</td>\n",
              "      <td>24001,4</td>\n",
              "      <td>1417,0</td>\n",
              "      <td>1315,2</td>\n",
              "      <td>1154,6</td>\n",
              "      <td>649,6</td>\n",
              "      <td>1377,4</td>\n",
              "      <td>11118,6</td>\n",
              "      <td>0,0</td>\n",
              "      <td>NaN</td>\n",
              "      <td>NaN</td>\n",
              "      <td>NaN</td>\n",
              "      <td>NaN</td>\n",
              "      <td>NaN</td>\n",
              "    </tr>\n",
              "    <tr>\n",
              "      <th>3</th>\n",
              "      <td>Sep j-1 rep</td>\n",
              "      <td>NaN</td>\n",
              "      <td>NaN</td>\n",
              "      <td>NaN</td>\n",
              "      <td>NaN</td>\n",
              "      <td>22/7</td>\n",
              "      <td>5.0</td>\n",
              "      <td>67,2</td>\n",
              "      <td>Day 2</td>\n",
              "      <td>NaN</td>\n",
              "      <td>NaN</td>\n",
              "      <td>Team</td>\n",
              "      <td>268,7</td>\n",
              "      <td>4,0</td>\n",
              "      <td>2010,8</td>\n",
              "      <td>1264,9</td>\n",
              "      <td>356,9</td>\n",
              "      <td>230,1</td>\n",
              "      <td>116,8</td>\n",
              "      <td>40,9</td>\n",
              "      <td>1,1</td>\n",
              "      <td>21,6</td>\n",
              "      <td>31,9</td>\n",
              "      <td>191,7</td>\n",
              "      <td>120,5</td>\n",
              "      <td>140,6</td>\n",
              "      <td>31,6</td>\n",
              "      <td>7,9</td>\n",
              "      <td>8,7</td>\n",
              "      <td>5,3</td>\n",
              "      <td>2,2</td>\n",
              "      <td>1,2</td>\n",
              "      <td>3805,7</td>\n",
              "      <td>0,0</td>\n",
              "      <td>0,3</td>\n",
              "      <td>0,0</td>\n",
              "      <td>0,0</td>\n",
              "      <td>0,1</td>\n",
              "      <td>0,0</td>\n",
              "      <td>0,0</td>\n",
              "      <td>38,2</td>\n",
              "      <td>235,4</td>\n",
              "      <td>62,0</td>\n",
              "      <td>24,9</td>\n",
              "      <td>20,4</td>\n",
              "      <td>9,1</td>\n",
              "      <td>11,6</td>\n",
              "      <td>0,6</td>\n",
              "      <td>0,3</td>\n",
              "      <td>0,4</td>\n",
              "      <td>0,7</td>\n",
              "      <td>4,8</td>\n",
              "      <td>36,3</td>\n",
              "      <td>8,9</td>\n",
              "      <td>6,3</td>\n",
              "      <td>2,0</td>\n",
              "      <td>3,3</td>\n",
              "      <td>52,1</td>\n",
              "      <td>15,0</td>\n",
              "      <td>1216,6</td>\n",
              "      <td>11215,6</td>\n",
              "      <td>214,6</td>\n",
              "      <td>579,5</td>\n",
              "      <td>492,0</td>\n",
              "      <td>194,8</td>\n",
              "      <td>529,8</td>\n",
              "      <td>5027,2</td>\n",
              "      <td>0,0</td>\n",
              "      <td>NaN</td>\n",
              "      <td>NaN</td>\n",
              "      <td>NaN</td>\n",
              "      <td>NaN</td>\n",
              "      <td>NaN</td>\n",
              "    </tr>\n",
              "    <tr>\n",
              "      <th>4</th>\n",
              "      <td>coll j-1 repos</td>\n",
              "      <td>NaN</td>\n",
              "      <td>NaN</td>\n",
              "      <td>NaN</td>\n",
              "      <td>NaN</td>\n",
              "      <td>22/7</td>\n",
              "      <td>5.0</td>\n",
              "      <td>83,4</td>\n",
              "      <td>Day 2</td>\n",
              "      <td>NaN</td>\n",
              "      <td>NaN</td>\n",
              "      <td>Team</td>\n",
              "      <td>518,0</td>\n",
              "      <td>6,2</td>\n",
              "      <td>4205,3</td>\n",
              "      <td>1950,4</td>\n",
              "      <td>839,5</td>\n",
              "      <td>655,9</td>\n",
              "      <td>585,4</td>\n",
              "      <td>168,2</td>\n",
              "      <td>6,1</td>\n",
              "      <td>24,5</td>\n",
              "      <td>3,1</td>\n",
              "      <td>195,7</td>\n",
              "      <td>136,0</td>\n",
              "      <td>438,3</td>\n",
              "      <td>32,8</td>\n",
              "      <td>11,3</td>\n",
              "      <td>10,8</td>\n",
              "      <td>10,8</td>\n",
              "      <td>10,7</td>\n",
              "      <td>6,2</td>\n",
              "      <td>6185,9</td>\n",
              "      <td>0,3</td>\n",
              "      <td>0,9</td>\n",
              "      <td>0,0</td>\n",
              "      <td>0,0</td>\n",
              "      <td>0,1</td>\n",
              "      <td>0,0</td>\n",
              "      <td>0,0</td>\n",
              "      <td>106,4</td>\n",
              "      <td>427,2</td>\n",
              "      <td>130,2</td>\n",
              "      <td>76,3</td>\n",
              "      <td>70,5</td>\n",
              "      <td>34,5</td>\n",
              "      <td>32,2</td>\n",
              "      <td>1,0</td>\n",
              "      <td>6,6</td>\n",
              "      <td>0,5</td>\n",
              "      <td>1,7</td>\n",
              "      <td>82,6</td>\n",
              "      <td>46,8</td>\n",
              "      <td>13,2</td>\n",
              "      <td>10,6</td>\n",
              "      <td>4,3</td>\n",
              "      <td>7,6</td>\n",
              "      <td>99,2</td>\n",
              "      <td>20,1</td>\n",
              "      <td>2961,8</td>\n",
              "      <td>21350,8</td>\n",
              "      <td>333,0</td>\n",
              "      <td>910,0</td>\n",
              "      <td>957,7</td>\n",
              "      <td>557,1</td>\n",
              "      <td>1447,0</td>\n",
              "      <td>9761,1</td>\n",
              "      <td>0,0</td>\n",
              "      <td>NaN</td>\n",
              "      <td>NaN</td>\n",
              "      <td>NaN</td>\n",
              "      <td>NaN</td>\n",
              "      <td>NaN</td>\n",
              "    </tr>\n",
              "  </tbody>\n",
              "</table>\n",
              "</div>"
            ],
            "text/plain": [
              "          Session Drill Athlete  ... Unnamed: 70 Unnamed: 71 Unnamed: 72\n",
              "0     Sep j-1 rep   NaN     NaN  ...         NaN         NaN         NaN\n",
              "1    Coll j-2 rep   NaN     NaN  ...         NaN         NaN         NaN\n",
              "2     Jour J2-rep   2,0     NaN  ...         NaN         NaN         NaN\n",
              "3     Sep j-1 rep   NaN     NaN  ...         NaN         NaN         NaN\n",
              "4  coll j-1 repos   NaN     NaN  ...         NaN         NaN         NaN\n",
              "\n",
              "[5 rows x 73 columns]"
            ]
          },
          "metadata": {
            "tags": []
          },
          "execution_count": 6
        }
      ]
    },
    {
      "cell_type": "code",
      "metadata": {
        "id": "ZFTYWWzaS6JX",
        "outputId": "809c7a4c-9e94-43fb-bfc7-46b4a8d5d79c",
        "colab": {
          "base_uri": "https://localhost:8080/",
          "height": 34
        }
      },
      "source": [
        "# looking for shape\n",
        "data_phases.shape"
      ],
      "execution_count": 7,
      "outputs": [
        {
          "output_type": "execute_result",
          "data": {
            "text/plain": [
              "(354, 73)"
            ]
          },
          "metadata": {
            "tags": []
          },
          "execution_count": 7
        }
      ]
    },
    {
      "cell_type": "code",
      "metadata": {
        "id": "xuPqqWeETq3E",
        "outputId": "8c6d67a7-bcf7-4666-d3ba-63efd05ed4be",
        "colab": {
          "base_uri": "https://localhost:8080/",
          "height": 34
        }
      },
      "source": [
        "# checking for NA\n",
        "data_phases.isna().sum().sum()"
      ],
      "execution_count": 8,
      "outputs": [
        {
          "output_type": "execute_result",
          "data": {
            "text/plain": [
              "2422"
            ]
          },
          "metadata": {
            "tags": []
          },
          "execution_count": 8
        }
      ]
    },
    {
      "cell_type": "markdown",
      "metadata": {
        "id": "UC_6NVoZBJYR"
      },
      "source": [
        "# Data Cleaning"
      ]
    },
    {
      "cell_type": "markdown",
      "metadata": {
        "id": "3yiztsVnROs0"
      },
      "source": [
        "### Trainings & Games"
      ]
    },
    {
      "cell_type": "code",
      "metadata": {
        "id": "m1QH8yjC_sql"
      },
      "source": [
        "# rounding rpe values\n",
        "data_full[\"RPE\"] = np.round(data_full[\"RPE\"],0)"
      ],
      "execution_count": 9,
      "outputs": []
    },
    {
      "cell_type": "code",
      "metadata": {
        "id": "EErTJeKie_Jp",
        "outputId": "a18e30d7-ecd5-49b1-d10f-083c0cd60dd7",
        "colab": {
          "base_uri": "https://localhost:8080/",
          "height": 51
        }
      },
      "source": [
        "# What are the values in \"Day Code\" column ?\n",
        "pd.unique(data_full[\"Day Code\"])"
      ],
      "execution_count": 10,
      "outputs": [
        {
          "output_type": "execute_result",
          "data": {
            "text/plain": [
              "array(['day 1', 'day 2', 'Game -1', 'Game -2', 'day 6', 'day 3',\n",
              "       'Game -3', 'Game day', 'day 4', 'day 5', 'day 7'], dtype=object)"
            ]
          },
          "metadata": {
            "tags": []
          },
          "execution_count": 10
        }
      ]
    },
    {
      "cell_type": "code",
      "metadata": {
        "id": "XTsmbFKWfQYJ"
      },
      "source": [
        "# dropping game related observations\n",
        "data = data_full[(data_full[\"Day Code\"]!= \"Game day\") & (data_full[\"Day Code\"]!= \"Game\" )]"
      ],
      "execution_count": 11,
      "outputs": []
    },
    {
      "cell_type": "code",
      "metadata": {
        "id": "BzrA84u0qOxH",
        "outputId": "75f0e22d-c716-4369-ccc5-8f6b69965e46",
        "colab": {
          "base_uri": "https://localhost:8080/",
          "height": 34
        }
      },
      "source": [
        "# Removing some variables\n",
        "data = data.drop([\"Session\", \"Drill\",\"Weeks\", \"Day Code\",\"Participation\", \"Type\",\"S-RPE\"], axis = 1)\n",
        "data.shape"
      ],
      "execution_count": 12,
      "outputs": [
        {
          "output_type": "execute_result",
          "data": {
            "text/plain": [
              "(2128, 82)"
            ]
          },
          "metadata": {
            "tags": []
          },
          "execution_count": 12
        }
      ]
    },
    {
      "cell_type": "code",
      "metadata": {
        "id": "JjK7ey1QGbop",
        "outputId": "500e8156-33ca-4c8f-f34c-578604da4622",
        "colab": {
          "base_uri": "https://localhost:8080/",
          "height": 68
        }
      },
      "source": [
        "# What are the values in \"Weather\" column ?\n",
        "pd.unique(data[\"Weather\"])"
      ],
      "execution_count": 13,
      "outputs": [
        {
          "output_type": "execute_result",
          "data": {
            "text/plain": [
              "array(['Unknown', 'sun', 'rain', 'cloud', 'good', 'little rain',\n",
              "       'field good', 'could', 'light rain', 'Sun', 'litlle rain'],\n",
              "      dtype=object)"
            ]
          },
          "metadata": {
            "tags": []
          },
          "execution_count": 13
        }
      ]
    },
    {
      "cell_type": "code",
      "metadata": {
        "id": "PKpCSK3uG86N"
      },
      "source": [
        "# correcting typing errors\n",
        "data[\"Weather\"] = data[\"Weather\"].str.lower()\n",
        "data[\"Weather\"]= data[\"Weather\"].replace('litlle rain', 'little rain') \n"
      ],
      "execution_count": 14,
      "outputs": []
    },
    {
      "cell_type": "code",
      "metadata": {
        "id": "N4VYTep1I524",
        "outputId": "a8294ccb-73be-4846-e441-24ac1e7a1619",
        "colab": {
          "base_uri": "https://localhost:8080/",
          "height": 51
        }
      },
      "source": [
        "# What are the values in \"Grass\" column ?\n",
        "pd.unique(data[\"Grass\"])"
      ],
      "execution_count": 15,
      "outputs": [
        {
          "output_type": "execute_result",
          "data": {
            "text/plain": [
              "array(['Unknown', 'pelous grasse', 'grasse', 'pelouse grasse', 'gelée'],\n",
              "      dtype=object)"
            ]
          },
          "metadata": {
            "tags": []
          },
          "execution_count": 15
        }
      ]
    },
    {
      "cell_type": "code",
      "metadata": {
        "id": "QeNRMbiaJA_2"
      },
      "source": [
        "# correcting typing errors\n",
        "data[\"Grass\"]= data[\"Grass\"].replace('pelous grasse', 'grasse') \n",
        "data[\"Grass\"]= data[\"Grass\"].replace('pelouse grasse', 'grasse') "
      ],
      "execution_count": 16,
      "outputs": []
    },
    {
      "cell_type": "code",
      "metadata": {
        "id": "pGOh5jN4K1_p",
        "outputId": "16469804-f12e-4b0a-97db-179df00e193c",
        "colab": {
          "base_uri": "https://localhost:8080/",
          "height": 51
        }
      },
      "source": [
        "# What are the values in \"Temperature\" column ?\n",
        "pd.unique(data[\"Temperature\"])"
      ],
      "execution_count": 17,
      "outputs": [
        {
          "output_type": "execute_result",
          "data": {
            "text/plain": [
              "array(['Unknown', '15-20', '5-10', '10-15', '27.0', '20-25', '20-25°',\n",
              "       '25-30', '0-5', '15-20°', 'pelous grasse'], dtype=object)"
            ]
          },
          "metadata": {
            "tags": []
          },
          "execution_count": 17
        }
      ]
    },
    {
      "cell_type": "code",
      "metadata": {
        "id": "Kjxh57AxK98T"
      },
      "source": [
        "# correcting typing errors\n",
        "data[\"Temperature\"]= data[\"Temperature\"].replace('15-20°', '15-20')\n",
        "data[\"Temperature\"]= data[\"Temperature\"].replace('20-25°', '20-25')"
      ],
      "execution_count": 18,
      "outputs": []
    },
    {
      "cell_type": "code",
      "metadata": {
        "id": "ldojYBwWatpZ"
      },
      "source": [
        "# converting date format\n",
        "data.Date = pd.to_datetime(data.Date)"
      ],
      "execution_count": 19,
      "outputs": []
    },
    {
      "cell_type": "code",
      "metadata": {
        "id": "4Xbv99od0woV",
        "outputId": "53584d0f-bd8f-4078-da1f-e5c407421065",
        "colab": {
          "base_uri": "https://localhost:8080/",
          "height": 406
        }
      },
      "source": [
        "data.head(5)"
      ],
      "execution_count": 20,
      "outputs": [
        {
          "output_type": "execute_result",
          "data": {
            "text/html": [
              "<div>\n",
              "<style scoped>\n",
              "    .dataframe tbody tr th:only-of-type {\n",
              "        vertical-align: middle;\n",
              "    }\n",
              "\n",
              "    .dataframe tbody tr th {\n",
              "        vertical-align: top;\n",
              "    }\n",
              "\n",
              "    .dataframe thead th {\n",
              "        text-align: right;\n",
              "    }\n",
              "</style>\n",
              "<table border=\"1\" class=\"dataframe\">\n",
              "  <thead>\n",
              "    <tr style=\"text-align: right;\">\n",
              "      <th></th>\n",
              "      <th>Athlete</th>\n",
              "      <th>Position</th>\n",
              "      <th>Date</th>\n",
              "      <th>Duration</th>\n",
              "      <th>Squad</th>\n",
              "      <th>RPE</th>\n",
              "      <th>Distance</th>\n",
              "      <th>Distance Zone 1</th>\n",
              "      <th>Distance Zone 2</th>\n",
              "      <th>Distance Zone 3</th>\n",
              "      <th>Distance Zone 4</th>\n",
              "      <th>Distance Zone 5</th>\n",
              "      <th>Distance Zone 6</th>\n",
              "      <th>marche</th>\n",
              "      <th>LSR</th>\n",
              "      <th>HSR</th>\n",
              "      <th>VHSR</th>\n",
              "      <th>Max Speed</th>\n",
              "      <th>M.min</th>\n",
              "      <th>Max HR</th>\n",
              "      <th>Avg HR</th>\n",
              "      <th>HR Exertion</th>\n",
              "      <th>Time in HR Zone 1</th>\n",
              "      <th>Time in HR Zone 2</th>\n",
              "      <th>Time in HR Zone 3</th>\n",
              "      <th>Time in HR Zone 4</th>\n",
              "      <th>Time in HR Zone 5</th>\n",
              "      <th>Time in HR Zone 6</th>\n",
              "      <th>TPS &gt;85%HR</th>\n",
              "      <th>% TPS &gt;85%HR</th>\n",
              "      <th>Speed Exertion</th>\n",
              "      <th>Sprint Count</th>\n",
              "      <th>Accelerations Zone 1</th>\n",
              "      <th>Accelerations Zone 2</th>\n",
              "      <th>Accelerations Zone 3</th>\n",
              "      <th>Acc &gt;2,5m/s²</th>\n",
              "      <th>Decelerations Zone 1</th>\n",
              "      <th>Decelerations Zone 2</th>\n",
              "      <th>Decelerations Zone 3</th>\n",
              "      <th>Dec &lt;-2,5m/s²</th>\n",
              "      <th>...</th>\n",
              "      <th>Impacts Zone 2</th>\n",
              "      <th>impact 1 + 2</th>\n",
              "      <th>Impacts Zone 3</th>\n",
              "      <th>Impacts Zone 4</th>\n",
              "      <th>impact 3+ 4</th>\n",
              "      <th>Impacts Zone 5</th>\n",
              "      <th>Impacts Zone 6</th>\n",
              "      <th>impact 5+ 6</th>\n",
              "      <th>Collisions</th>\n",
              "      <th>Running Series</th>\n",
              "      <th>Running Imbalance</th>\n",
              "      <th>Running Imbalance Standard Deviation</th>\n",
              "      <th>Running Symmetry Footstrikes</th>\n",
              "      <th>Metabolic Load Time Zone 1</th>\n",
              "      <th>Metabolic Load Time Zone 2</th>\n",
              "      <th>Metabolic Load Time Zone 3</th>\n",
              "      <th>Metabolic Load Time Zone 4</th>\n",
              "      <th>Metabolic Load Time Zone 5</th>\n",
              "      <th>Metabolic Load (relative)</th>\n",
              "      <th>Metabolic Power Average</th>\n",
              "      <th>High-Metabolic-Power Distance</th>\n",
              "      <th>VHMPD</th>\n",
              "      <th>Equivalent Distance</th>\n",
              "      <th>Metabolic Load Distance Zone 1</th>\n",
              "      <th>Metabolic Load Distance Zone 2</th>\n",
              "      <th>Metabolic Load Distance Zone 3</th>\n",
              "      <th>Metabolic Load Distance Zone 4</th>\n",
              "      <th>Metabolic Load Distance Zone 5</th>\n",
              "      <th>Metabolic Load (absolute)</th>\n",
              "      <th>Temperature</th>\n",
              "      <th>Weather</th>\n",
              "      <th>Grass</th>\n",
              "      <th>Sprint Total Distance</th>\n",
              "      <th>Sum_AD</th>\n",
              "      <th>HSR.min</th>\n",
              "      <th>SpTD.min</th>\n",
              "      <th>Sum_AD.min</th>\n",
              "      <th>Impacts.min</th>\n",
              "      <th>HMPD.min</th>\n",
              "      <th>Sp_acc</th>\n",
              "    </tr>\n",
              "  </thead>\n",
              "  <tbody>\n",
              "    <tr>\n",
              "      <th>0</th>\n",
              "      <td>athlete 1</td>\n",
              "      <td>2è ligne</td>\n",
              "      <td>2014-07-21 00:00:00+00:00</td>\n",
              "      <td>52.38</td>\n",
              "      <td>Forwards</td>\n",
              "      <td>3.0</td>\n",
              "      <td>1205.27</td>\n",
              "      <td>751.48</td>\n",
              "      <td>196.96</td>\n",
              "      <td>220.08</td>\n",
              "      <td>36.75</td>\n",
              "      <td>0.00</td>\n",
              "      <td>0.0</td>\n",
              "      <td>751.48</td>\n",
              "      <td>417.04</td>\n",
              "      <td>36.75</td>\n",
              "      <td>0.00</td>\n",
              "      <td>18.72</td>\n",
              "      <td>23.010118</td>\n",
              "      <td>183.0</td>\n",
              "      <td>139.72</td>\n",
              "      <td>152.72</td>\n",
              "      <td>9.29</td>\n",
              "      <td>7.11</td>\n",
              "      <td>16.67</td>\n",
              "      <td>17.36</td>\n",
              "      <td>1.69</td>\n",
              "      <td>0.27</td>\n",
              "      <td>1.96</td>\n",
              "      <td>0.037412</td>\n",
              "      <td>3387.8</td>\n",
              "      <td>0.0</td>\n",
              "      <td>1.0</td>\n",
              "      <td>0.0</td>\n",
              "      <td>0.0</td>\n",
              "      <td>0.0</td>\n",
              "      <td>0.0</td>\n",
              "      <td>0.0</td>\n",
              "      <td>0.0</td>\n",
              "      <td>0.0</td>\n",
              "      <td>...</td>\n",
              "      <td>20.0</td>\n",
              "      <td>51.0</td>\n",
              "      <td>15.0</td>\n",
              "      <td>7.0</td>\n",
              "      <td>22.0</td>\n",
              "      <td>2.0</td>\n",
              "      <td>9.0</td>\n",
              "      <td>11.0</td>\n",
              "      <td>0.0</td>\n",
              "      <td>4.0</td>\n",
              "      <td>0.7</td>\n",
              "      <td>6.8</td>\n",
              "      <td>55.0</td>\n",
              "      <td>49.6</td>\n",
              "      <td>2.1</td>\n",
              "      <td>0.5</td>\n",
              "      <td>0.2</td>\n",
              "      <td>0.1</td>\n",
              "      <td>6.9</td>\n",
              "      <td>2.2</td>\n",
              "      <td>134.2</td>\n",
              "      <td>49.3</td>\n",
              "      <td>1481.6</td>\n",
              "      <td>764.5</td>\n",
              "      <td>306.6</td>\n",
              "      <td>84.9</td>\n",
              "      <td>35.9</td>\n",
              "      <td>13.4</td>\n",
              "      <td>750.0</td>\n",
              "      <td>Unknown</td>\n",
              "      <td>unknown</td>\n",
              "      <td>Unknown</td>\n",
              "      <td>0.0</td>\n",
              "      <td>0.0</td>\n",
              "      <td>0.701604</td>\n",
              "      <td>0.0</td>\n",
              "      <td>0.0</td>\n",
              "      <td>0.171821</td>\n",
              "      <td>2.562047</td>\n",
              "      <td>0.0</td>\n",
              "    </tr>\n",
              "    <tr>\n",
              "      <th>1</th>\n",
              "      <td>athlete 1</td>\n",
              "      <td>2è ligne</td>\n",
              "      <td>2014-07-21 00:00:00+00:00</td>\n",
              "      <td>97.65</td>\n",
              "      <td>Forwards</td>\n",
              "      <td>7.0</td>\n",
              "      <td>4674.08</td>\n",
              "      <td>2432.61</td>\n",
              "      <td>1065.51</td>\n",
              "      <td>833.21</td>\n",
              "      <td>318.12</td>\n",
              "      <td>24.64</td>\n",
              "      <td>0.0</td>\n",
              "      <td>2432.61</td>\n",
              "      <td>1898.72</td>\n",
              "      <td>342.76</td>\n",
              "      <td>24.64</td>\n",
              "      <td>22.75</td>\n",
              "      <td>47.865643</td>\n",
              "      <td>199.0</td>\n",
              "      <td>143.51</td>\n",
              "      <td>453.83</td>\n",
              "      <td>18.43</td>\n",
              "      <td>12.45</td>\n",
              "      <td>23.05</td>\n",
              "      <td>25.53</td>\n",
              "      <td>16.24</td>\n",
              "      <td>1.95</td>\n",
              "      <td>18.19</td>\n",
              "      <td>0.186278</td>\n",
              "      <td>7030.6</td>\n",
              "      <td>0.0</td>\n",
              "      <td>1.0</td>\n",
              "      <td>0.0</td>\n",
              "      <td>0.0</td>\n",
              "      <td>0.0</td>\n",
              "      <td>0.0</td>\n",
              "      <td>0.0</td>\n",
              "      <td>0.0</td>\n",
              "      <td>0.0</td>\n",
              "      <td>...</td>\n",
              "      <td>58.0</td>\n",
              "      <td>250.0</td>\n",
              "      <td>31.0</td>\n",
              "      <td>32.0</td>\n",
              "      <td>63.0</td>\n",
              "      <td>18.0</td>\n",
              "      <td>25.0</td>\n",
              "      <td>43.0</td>\n",
              "      <td>1.0</td>\n",
              "      <td>7.0</td>\n",
              "      <td>2.3</td>\n",
              "      <td>2.9</td>\n",
              "      <td>97.0</td>\n",
              "      <td>54.9</td>\n",
              "      <td>13.7</td>\n",
              "      <td>12.8</td>\n",
              "      <td>6.1</td>\n",
              "      <td>10.1</td>\n",
              "      <td>143.4</td>\n",
              "      <td>24.5</td>\n",
              "      <td>3310.4</td>\n",
              "      <td>2241.9</td>\n",
              "      <td>30881.0</td>\n",
              "      <td>439.4</td>\n",
              "      <td>923.9</td>\n",
              "      <td>1068.5</td>\n",
              "      <td>652.6</td>\n",
              "      <td>1589.3</td>\n",
              "      <td>15631.9</td>\n",
              "      <td>Unknown</td>\n",
              "      <td>unknown</td>\n",
              "      <td>Unknown</td>\n",
              "      <td>0.0</td>\n",
              "      <td>0.0</td>\n",
              "      <td>3.510087</td>\n",
              "      <td>0.0</td>\n",
              "      <td>0.0</td>\n",
              "      <td>0.256016</td>\n",
              "      <td>33.900666</td>\n",
              "      <td>0.0</td>\n",
              "    </tr>\n",
              "    <tr>\n",
              "      <th>2</th>\n",
              "      <td>athlete 1</td>\n",
              "      <td>2è ligne</td>\n",
              "      <td>2014-07-28 00:00:00+00:00</td>\n",
              "      <td>43.85</td>\n",
              "      <td>Forwards</td>\n",
              "      <td>4.0</td>\n",
              "      <td>1488.11</td>\n",
              "      <td>916.59</td>\n",
              "      <td>318.01</td>\n",
              "      <td>235.15</td>\n",
              "      <td>18.36</td>\n",
              "      <td>0.00</td>\n",
              "      <td>0.0</td>\n",
              "      <td>916.59</td>\n",
              "      <td>553.16</td>\n",
              "      <td>18.36</td>\n",
              "      <td>0.00</td>\n",
              "      <td>18.47</td>\n",
              "      <td>33.936374</td>\n",
              "      <td>176.0</td>\n",
              "      <td>140.96</td>\n",
              "      <td>124.67</td>\n",
              "      <td>3.47</td>\n",
              "      <td>9.78</td>\n",
              "      <td>16.94</td>\n",
              "      <td>11.16</td>\n",
              "      <td>2.45</td>\n",
              "      <td>0.05</td>\n",
              "      <td>2.50</td>\n",
              "      <td>0.057013</td>\n",
              "      <td>2924.0</td>\n",
              "      <td>0.0</td>\n",
              "      <td>1.0</td>\n",
              "      <td>0.0</td>\n",
              "      <td>0.0</td>\n",
              "      <td>0.0</td>\n",
              "      <td>0.0</td>\n",
              "      <td>0.0</td>\n",
              "      <td>0.0</td>\n",
              "      <td>0.0</td>\n",
              "      <td>...</td>\n",
              "      <td>6.0</td>\n",
              "      <td>48.0</td>\n",
              "      <td>10.0</td>\n",
              "      <td>8.0</td>\n",
              "      <td>18.0</td>\n",
              "      <td>2.0</td>\n",
              "      <td>10.0</td>\n",
              "      <td>12.0</td>\n",
              "      <td>0.0</td>\n",
              "      <td>4.0</td>\n",
              "      <td>3.1</td>\n",
              "      <td>2.8</td>\n",
              "      <td>73.0</td>\n",
              "      <td>41.8</td>\n",
              "      <td>1.5</td>\n",
              "      <td>0.4</td>\n",
              "      <td>0.1</td>\n",
              "      <td>0.0</td>\n",
              "      <td>7.2</td>\n",
              "      <td>2.7</td>\n",
              "      <td>103.5</td>\n",
              "      <td>25.5</td>\n",
              "      <td>1547.9</td>\n",
              "      <td>1113.5</td>\n",
              "      <td>271.1</td>\n",
              "      <td>78.0</td>\n",
              "      <td>22.2</td>\n",
              "      <td>3.3</td>\n",
              "      <td>783.5</td>\n",
              "      <td>Unknown</td>\n",
              "      <td>unknown</td>\n",
              "      <td>Unknown</td>\n",
              "      <td>0.0</td>\n",
              "      <td>0.0</td>\n",
              "      <td>0.418700</td>\n",
              "      <td>0.0</td>\n",
              "      <td>0.0</td>\n",
              "      <td>0.228050</td>\n",
              "      <td>2.360319</td>\n",
              "      <td>0.0</td>\n",
              "    </tr>\n",
              "    <tr>\n",
              "      <th>3</th>\n",
              "      <td>athlete 1</td>\n",
              "      <td>2è ligne</td>\n",
              "      <td>2014-07-28 00:00:00+00:00</td>\n",
              "      <td>70.68</td>\n",
              "      <td>Forwards</td>\n",
              "      <td>5.0</td>\n",
              "      <td>4382.54</td>\n",
              "      <td>2255.20</td>\n",
              "      <td>1155.82</td>\n",
              "      <td>615.73</td>\n",
              "      <td>261.86</td>\n",
              "      <td>93.92</td>\n",
              "      <td>0.0</td>\n",
              "      <td>2255.20</td>\n",
              "      <td>1771.55</td>\n",
              "      <td>355.78</td>\n",
              "      <td>93.92</td>\n",
              "      <td>23.00</td>\n",
              "      <td>62.005376</td>\n",
              "      <td>178.0</td>\n",
              "      <td>138.38</td>\n",
              "      <td>181.00</td>\n",
              "      <td>11.54</td>\n",
              "      <td>10.87</td>\n",
              "      <td>25.93</td>\n",
              "      <td>21.09</td>\n",
              "      <td>1.19</td>\n",
              "      <td>0.07</td>\n",
              "      <td>1.26</td>\n",
              "      <td>0.017824</td>\n",
              "      <td>5348.2</td>\n",
              "      <td>0.0</td>\n",
              "      <td>1.0</td>\n",
              "      <td>0.0</td>\n",
              "      <td>0.0</td>\n",
              "      <td>0.0</td>\n",
              "      <td>0.0</td>\n",
              "      <td>0.0</td>\n",
              "      <td>0.0</td>\n",
              "      <td>0.0</td>\n",
              "      <td>...</td>\n",
              "      <td>48.0</td>\n",
              "      <td>193.0</td>\n",
              "      <td>31.0</td>\n",
              "      <td>36.0</td>\n",
              "      <td>67.0</td>\n",
              "      <td>7.0</td>\n",
              "      <td>11.0</td>\n",
              "      <td>18.0</td>\n",
              "      <td>0.0</td>\n",
              "      <td>2.0</td>\n",
              "      <td>-0.9</td>\n",
              "      <td>1.1</td>\n",
              "      <td>45.0</td>\n",
              "      <td>64.2</td>\n",
              "      <td>3.9</td>\n",
              "      <td>1.7</td>\n",
              "      <td>0.7</td>\n",
              "      <td>0.2</td>\n",
              "      <td>21.3</td>\n",
              "      <td>5.0</td>\n",
              "      <td>577.4</td>\n",
              "      <td>214.5</td>\n",
              "      <td>4584.1</td>\n",
              "      <td>3083.4</td>\n",
              "      <td>721.7</td>\n",
              "      <td>362.9</td>\n",
              "      <td>169.2</td>\n",
              "      <td>45.3</td>\n",
              "      <td>2320.4</td>\n",
              "      <td>Unknown</td>\n",
              "      <td>unknown</td>\n",
              "      <td>Unknown</td>\n",
              "      <td>0.0</td>\n",
              "      <td>0.0</td>\n",
              "      <td>5.033673</td>\n",
              "      <td>0.0</td>\n",
              "      <td>0.0</td>\n",
              "      <td>0.155631</td>\n",
              "      <td>8.169213</td>\n",
              "      <td>0.0</td>\n",
              "    </tr>\n",
              "    <tr>\n",
              "      <th>4</th>\n",
              "      <td>athlete 1</td>\n",
              "      <td>2è ligne</td>\n",
              "      <td>2014-07-22 00:00:00+00:00</td>\n",
              "      <td>56.20</td>\n",
              "      <td>Forwards</td>\n",
              "      <td>3.0</td>\n",
              "      <td>1755.01</td>\n",
              "      <td>1079.84</td>\n",
              "      <td>404.80</td>\n",
              "      <td>262.40</td>\n",
              "      <td>7.97</td>\n",
              "      <td>0.00</td>\n",
              "      <td>0.0</td>\n",
              "      <td>1079.84</td>\n",
              "      <td>667.20</td>\n",
              "      <td>7.97</td>\n",
              "      <td>0.00</td>\n",
              "      <td>18.00</td>\n",
              "      <td>31.227936</td>\n",
              "      <td>206.0</td>\n",
              "      <td>133.06</td>\n",
              "      <td>149.89</td>\n",
              "      <td>19.55</td>\n",
              "      <td>10.80</td>\n",
              "      <td>13.10</td>\n",
              "      <td>10.33</td>\n",
              "      <td>1.75</td>\n",
              "      <td>0.68</td>\n",
              "      <td>2.43</td>\n",
              "      <td>0.043231</td>\n",
              "      <td>3715.6</td>\n",
              "      <td>0.0</td>\n",
              "      <td>1.0</td>\n",
              "      <td>0.0</td>\n",
              "      <td>0.0</td>\n",
              "      <td>0.0</td>\n",
              "      <td>0.0</td>\n",
              "      <td>0.0</td>\n",
              "      <td>0.0</td>\n",
              "      <td>0.0</td>\n",
              "      <td>...</td>\n",
              "      <td>10.0</td>\n",
              "      <td>46.0</td>\n",
              "      <td>5.0</td>\n",
              "      <td>10.0</td>\n",
              "      <td>15.0</td>\n",
              "      <td>3.0</td>\n",
              "      <td>5.0</td>\n",
              "      <td>8.0</td>\n",
              "      <td>0.0</td>\n",
              "      <td>2.0</td>\n",
              "      <td>-2.1</td>\n",
              "      <td>1.7</td>\n",
              "      <td>35.0</td>\n",
              "      <td>38.0</td>\n",
              "      <td>5.5</td>\n",
              "      <td>6.5</td>\n",
              "      <td>2.7</td>\n",
              "      <td>3.5</td>\n",
              "      <td>52.4</td>\n",
              "      <td>15.5</td>\n",
              "      <td>1239.4</td>\n",
              "      <td>744.2</td>\n",
              "      <td>11272.6</td>\n",
              "      <td>152.8</td>\n",
              "      <td>362.8</td>\n",
              "      <td>495.2</td>\n",
              "      <td>261.5</td>\n",
              "      <td>482.7</td>\n",
              "      <td>5706.2</td>\n",
              "      <td>Unknown</td>\n",
              "      <td>unknown</td>\n",
              "      <td>Unknown</td>\n",
              "      <td>0.0</td>\n",
              "      <td>0.0</td>\n",
              "      <td>0.141815</td>\n",
              "      <td>0.0</td>\n",
              "      <td>0.0</td>\n",
              "      <td>0.088968</td>\n",
              "      <td>22.053381</td>\n",
              "      <td>0.0</td>\n",
              "    </tr>\n",
              "  </tbody>\n",
              "</table>\n",
              "<p>5 rows × 82 columns</p>\n",
              "</div>"
            ],
            "text/plain": [
              "     Athlete  Position  ...   HMPD.min  Sp_acc\n",
              "0  athlete 1  2è ligne  ...   2.562047     0.0\n",
              "1  athlete 1  2è ligne  ...  33.900666     0.0\n",
              "2  athlete 1  2è ligne  ...   2.360319     0.0\n",
              "3  athlete 1  2è ligne  ...   8.169213     0.0\n",
              "4  athlete 1  2è ligne  ...  22.053381     0.0\n",
              "\n",
              "[5 rows x 82 columns]"
            ]
          },
          "metadata": {
            "tags": []
          },
          "execution_count": 20
        }
      ]
    },
    {
      "cell_type": "markdown",
      "metadata": {
        "id": "F8hb0gDFRSXa"
      },
      "source": [
        "### Training phases"
      ]
    },
    {
      "cell_type": "code",
      "metadata": {
        "id": "8pBtrieoRGIH",
        "outputId": "44c64cce-9eb4-4856-d297-f8fe4bb6bcbc",
        "colab": {
          "base_uri": "https://localhost:8080/",
          "height": 255
        }
      },
      "source": [
        "# What are the values in \"Session\" column ?\n",
        "pd.unique(data_phases[\"Session\"])"
      ],
      "execution_count": 21,
      "outputs": [
        {
          "output_type": "execute_result",
          "data": {
            "text/plain": [
              "array(['Sep j-1 rep', 'Coll j-2 rep', 'Jour J2-rep', 'coll j-1 repos',\n",
              "       'Jour J1-rep', 'Avant rep', 'Sep j-1 match', 'coll j-1 match',\n",
              "       'Après rep', 'Totale semaine', 'coll j-3 rep', 'Jour J3-rep',\n",
              "       'Sep j-2 rep', 'mar coll j-2 rep', 'coll j-1 rep',\n",
              "       'sep coll j-2 match', 'sep coll j1', 'coll oppo raisonnée',\n",
              "       'Jour 1', 'sep coll j-2', 'phase energétique',\n",
              "       'sep coll j-1 match', 'Coll J match', 'phase explosive', 'coll j1',\n",
              "       'sep  j2', 'coll j2', 'Jour 2', 'sep coll j-2match', 'MEP',\n",
              "       'sep j2', 'MEP ', nan, 'coll j2 ', 'sep coll j-1match', 'coll J2',\n",
              "       'Coll j1', 'Sep j2', 'sep coll j3', 'sep j4', 'coll j5',\n",
              "       'sep coll j-3match', 'coll j-2', 'sep coll j-1', 'coll j-1',\n",
              "       'sep j-2', 'Jour J-2', 'Coll j-1', 'sep j1', 'sep coll j-2 ',\n",
              "       'coll J', 'coll j3', 'sep j6', 'coll j6', 'Jour 6', 'coll j',\n",
              "       'sep j3', 'sep j5', 'coll j4', 'Jour 4'], dtype=object)"
            ]
          },
          "metadata": {
            "tags": []
          },
          "execution_count": 21
        }
      ]
    },
    {
      "cell_type": "code",
      "metadata": {
        "id": "0SyRTTvfRrBi"
      },
      "source": [
        "# removing non usefull observation type\n",
        "data_phases = data_phases[(data_phases[\"Session\"]!= 'Avant rep') & (data_phases[\"Session\"]!= \"Après rep\" ) &\n",
        "                          (data_phases[\"Session\"]!= \"phase energétique\" ) & \n",
        "                          (data_phases[\"Session\"]!= \"phase explosive\" )  & \n",
        "                          (data_phases[\"Session\"]!= \"Totale semaine\" ) ]"
      ],
      "execution_count": 22,
      "outputs": []
    },
    {
      "cell_type": "code",
      "metadata": {
        "id": "v6K1JMMqTJ4O"
      },
      "source": [
        "# keeping only columns of interest : Date & Target\n",
        "data_phases=data_phases[[\"Target\", \"Date\"]]"
      ],
      "execution_count": 23,
      "outputs": []
    },
    {
      "cell_type": "code",
      "metadata": {
        "id": "UrGodOqLWuAP"
      },
      "source": [
        "# droppping NA values\n",
        "data_phases = data_phases.dropna()"
      ],
      "execution_count": 24,
      "outputs": []
    },
    {
      "cell_type": "code",
      "metadata": {
        "id": "T46Z6P6fVcvL"
      },
      "source": [
        "# correcting typing errors\n",
        "\n",
        "data_phases[\"Date\"]= data_phases[\"Date\"].replace('5/8', '5/8/2014') \n",
        "data_phases[\"Date\"]= data_phases[\"Date\"].replace('12-août', '12/8/2014') \n"
      ],
      "execution_count": 25,
      "outputs": []
    },
    {
      "cell_type": "code",
      "metadata": {
        "id": "F3a7EZC-Uc9P"
      },
      "source": [
        "# converting date format\n",
        "data_phases.Date = pd.to_datetime(data_phases.Date, format=\"%d/%m/%Y\", utc = True)"
      ],
      "execution_count": 26,
      "outputs": []
    },
    {
      "cell_type": "code",
      "metadata": {
        "id": "-1z1hOAwTxZu",
        "outputId": "9f78b8f0-2071-404b-f616-0144a9ca8f1c",
        "colab": {
          "base_uri": "https://localhost:8080/",
          "height": 34
        }
      },
      "source": [
        "# Checking for NA\n",
        "data_phases.isna().sum().sum()"
      ],
      "execution_count": 27,
      "outputs": [
        {
          "output_type": "execute_result",
          "data": {
            "text/plain": [
              "0"
            ]
          },
          "metadata": {
            "tags": []
          },
          "execution_count": 27
        }
      ]
    },
    {
      "cell_type": "code",
      "metadata": {
        "id": "rMrWQiECTWke",
        "outputId": "e9c913de-4b17-4aac-efd1-d101d197d02b",
        "colab": {
          "base_uri": "https://localhost:8080/",
          "height": 204
        }
      },
      "source": [
        "data_phases.head(5)"
      ],
      "execution_count": 28,
      "outputs": [
        {
          "output_type": "execute_result",
          "data": {
            "text/html": [
              "<div>\n",
              "<style scoped>\n",
              "    .dataframe tbody tr th:only-of-type {\n",
              "        vertical-align: middle;\n",
              "    }\n",
              "\n",
              "    .dataframe tbody tr th {\n",
              "        vertical-align: top;\n",
              "    }\n",
              "\n",
              "    .dataframe thead th {\n",
              "        text-align: right;\n",
              "    }\n",
              "</style>\n",
              "<table border=\"1\" class=\"dataframe\">\n",
              "  <thead>\n",
              "    <tr style=\"text-align: right;\">\n",
              "      <th></th>\n",
              "      <th>Target</th>\n",
              "      <th>Date</th>\n",
              "    </tr>\n",
              "  </thead>\n",
              "  <tbody>\n",
              "    <tr>\n",
              "      <th>25</th>\n",
              "      <td>nrj</td>\n",
              "      <td>2014-08-05 00:00:00+00:00</td>\n",
              "    </tr>\n",
              "    <tr>\n",
              "      <th>26</th>\n",
              "      <td>nrj</td>\n",
              "      <td>2014-08-06 00:00:00+00:00</td>\n",
              "    </tr>\n",
              "    <tr>\n",
              "      <th>28</th>\n",
              "      <td>exp</td>\n",
              "      <td>2014-08-05 00:00:00+00:00</td>\n",
              "    </tr>\n",
              "    <tr>\n",
              "      <th>29</th>\n",
              "      <td>exp</td>\n",
              "      <td>2014-08-08 00:00:00+00:00</td>\n",
              "    </tr>\n",
              "    <tr>\n",
              "      <th>32</th>\n",
              "      <td>nrj</td>\n",
              "      <td>2014-08-11 00:00:00+00:00</td>\n",
              "    </tr>\n",
              "  </tbody>\n",
              "</table>\n",
              "</div>"
            ],
            "text/plain": [
              "   Target                      Date\n",
              "25    nrj 2014-08-05 00:00:00+00:00\n",
              "26    nrj 2014-08-06 00:00:00+00:00\n",
              "28    exp 2014-08-05 00:00:00+00:00\n",
              "29    exp 2014-08-08 00:00:00+00:00\n",
              "32    nrj 2014-08-11 00:00:00+00:00"
            ]
          },
          "metadata": {
            "tags": []
          },
          "execution_count": 28
        }
      ]
    },
    {
      "cell_type": "code",
      "metadata": {
        "id": "nj_jJKAYX8Q2"
      },
      "source": [
        "# converting target values to more intuitive labels\n",
        "data_phases[\"Target\"]= data_phases[\"Target\"].replace('nrj', 'Energetic') \n",
        "data_phases[\"Target\"]= data_phases[\"Target\"].replace('exp', 'Explosive') "
      ],
      "execution_count": 29,
      "outputs": []
    },
    {
      "cell_type": "code",
      "metadata": {
        "id": "0wPq_JZOYhDt"
      },
      "source": [
        "# merging training data and training phase data\n",
        "data = data.merge(data_phases.drop_duplicates(subset=\"Date\"), on=\"Date\", how=\"left\")"
      ],
      "execution_count": 30,
      "outputs": []
    },
    {
      "cell_type": "code",
      "metadata": {
        "id": "kg15fzRnbYDa",
        "outputId": "c9ee789d-50f4-4d02-d489-493f7e34f27d",
        "colab": {
          "base_uri": "https://localhost:8080/",
          "height": 406
        }
      },
      "source": [
        "data.head(5)"
      ],
      "execution_count": 31,
      "outputs": [
        {
          "output_type": "execute_result",
          "data": {
            "text/html": [
              "<div>\n",
              "<style scoped>\n",
              "    .dataframe tbody tr th:only-of-type {\n",
              "        vertical-align: middle;\n",
              "    }\n",
              "\n",
              "    .dataframe tbody tr th {\n",
              "        vertical-align: top;\n",
              "    }\n",
              "\n",
              "    .dataframe thead th {\n",
              "        text-align: right;\n",
              "    }\n",
              "</style>\n",
              "<table border=\"1\" class=\"dataframe\">\n",
              "  <thead>\n",
              "    <tr style=\"text-align: right;\">\n",
              "      <th></th>\n",
              "      <th>Athlete</th>\n",
              "      <th>Position</th>\n",
              "      <th>Date</th>\n",
              "      <th>Duration</th>\n",
              "      <th>Squad</th>\n",
              "      <th>RPE</th>\n",
              "      <th>Distance</th>\n",
              "      <th>Distance Zone 1</th>\n",
              "      <th>Distance Zone 2</th>\n",
              "      <th>Distance Zone 3</th>\n",
              "      <th>Distance Zone 4</th>\n",
              "      <th>Distance Zone 5</th>\n",
              "      <th>Distance Zone 6</th>\n",
              "      <th>marche</th>\n",
              "      <th>LSR</th>\n",
              "      <th>HSR</th>\n",
              "      <th>VHSR</th>\n",
              "      <th>Max Speed</th>\n",
              "      <th>M.min</th>\n",
              "      <th>Max HR</th>\n",
              "      <th>Avg HR</th>\n",
              "      <th>HR Exertion</th>\n",
              "      <th>Time in HR Zone 1</th>\n",
              "      <th>Time in HR Zone 2</th>\n",
              "      <th>Time in HR Zone 3</th>\n",
              "      <th>Time in HR Zone 4</th>\n",
              "      <th>Time in HR Zone 5</th>\n",
              "      <th>Time in HR Zone 6</th>\n",
              "      <th>TPS &gt;85%HR</th>\n",
              "      <th>% TPS &gt;85%HR</th>\n",
              "      <th>Speed Exertion</th>\n",
              "      <th>Sprint Count</th>\n",
              "      <th>Accelerations Zone 1</th>\n",
              "      <th>Accelerations Zone 2</th>\n",
              "      <th>Accelerations Zone 3</th>\n",
              "      <th>Acc &gt;2,5m/s²</th>\n",
              "      <th>Decelerations Zone 1</th>\n",
              "      <th>Decelerations Zone 2</th>\n",
              "      <th>Decelerations Zone 3</th>\n",
              "      <th>Dec &lt;-2,5m/s²</th>\n",
              "      <th>...</th>\n",
              "      <th>impact 1 + 2</th>\n",
              "      <th>Impacts Zone 3</th>\n",
              "      <th>Impacts Zone 4</th>\n",
              "      <th>impact 3+ 4</th>\n",
              "      <th>Impacts Zone 5</th>\n",
              "      <th>Impacts Zone 6</th>\n",
              "      <th>impact 5+ 6</th>\n",
              "      <th>Collisions</th>\n",
              "      <th>Running Series</th>\n",
              "      <th>Running Imbalance</th>\n",
              "      <th>Running Imbalance Standard Deviation</th>\n",
              "      <th>Running Symmetry Footstrikes</th>\n",
              "      <th>Metabolic Load Time Zone 1</th>\n",
              "      <th>Metabolic Load Time Zone 2</th>\n",
              "      <th>Metabolic Load Time Zone 3</th>\n",
              "      <th>Metabolic Load Time Zone 4</th>\n",
              "      <th>Metabolic Load Time Zone 5</th>\n",
              "      <th>Metabolic Load (relative)</th>\n",
              "      <th>Metabolic Power Average</th>\n",
              "      <th>High-Metabolic-Power Distance</th>\n",
              "      <th>VHMPD</th>\n",
              "      <th>Equivalent Distance</th>\n",
              "      <th>Metabolic Load Distance Zone 1</th>\n",
              "      <th>Metabolic Load Distance Zone 2</th>\n",
              "      <th>Metabolic Load Distance Zone 3</th>\n",
              "      <th>Metabolic Load Distance Zone 4</th>\n",
              "      <th>Metabolic Load Distance Zone 5</th>\n",
              "      <th>Metabolic Load (absolute)</th>\n",
              "      <th>Temperature</th>\n",
              "      <th>Weather</th>\n",
              "      <th>Grass</th>\n",
              "      <th>Sprint Total Distance</th>\n",
              "      <th>Sum_AD</th>\n",
              "      <th>HSR.min</th>\n",
              "      <th>SpTD.min</th>\n",
              "      <th>Sum_AD.min</th>\n",
              "      <th>Impacts.min</th>\n",
              "      <th>HMPD.min</th>\n",
              "      <th>Sp_acc</th>\n",
              "      <th>Target</th>\n",
              "    </tr>\n",
              "  </thead>\n",
              "  <tbody>\n",
              "    <tr>\n",
              "      <th>0</th>\n",
              "      <td>athlete 1</td>\n",
              "      <td>2è ligne</td>\n",
              "      <td>2014-07-21 00:00:00+00:00</td>\n",
              "      <td>52.38</td>\n",
              "      <td>Forwards</td>\n",
              "      <td>3.0</td>\n",
              "      <td>1205.27</td>\n",
              "      <td>751.48</td>\n",
              "      <td>196.96</td>\n",
              "      <td>220.08</td>\n",
              "      <td>36.75</td>\n",
              "      <td>0.00</td>\n",
              "      <td>0.0</td>\n",
              "      <td>751.48</td>\n",
              "      <td>417.04</td>\n",
              "      <td>36.75</td>\n",
              "      <td>0.00</td>\n",
              "      <td>18.72</td>\n",
              "      <td>23.010118</td>\n",
              "      <td>183.0</td>\n",
              "      <td>139.72</td>\n",
              "      <td>152.72</td>\n",
              "      <td>9.29</td>\n",
              "      <td>7.11</td>\n",
              "      <td>16.67</td>\n",
              "      <td>17.36</td>\n",
              "      <td>1.69</td>\n",
              "      <td>0.27</td>\n",
              "      <td>1.96</td>\n",
              "      <td>0.037412</td>\n",
              "      <td>3387.8</td>\n",
              "      <td>0.0</td>\n",
              "      <td>1.0</td>\n",
              "      <td>0.0</td>\n",
              "      <td>0.0</td>\n",
              "      <td>0.0</td>\n",
              "      <td>0.0</td>\n",
              "      <td>0.0</td>\n",
              "      <td>0.0</td>\n",
              "      <td>0.0</td>\n",
              "      <td>...</td>\n",
              "      <td>51.0</td>\n",
              "      <td>15.0</td>\n",
              "      <td>7.0</td>\n",
              "      <td>22.0</td>\n",
              "      <td>2.0</td>\n",
              "      <td>9.0</td>\n",
              "      <td>11.0</td>\n",
              "      <td>0.0</td>\n",
              "      <td>4.0</td>\n",
              "      <td>0.7</td>\n",
              "      <td>6.8</td>\n",
              "      <td>55.0</td>\n",
              "      <td>49.6</td>\n",
              "      <td>2.1</td>\n",
              "      <td>0.5</td>\n",
              "      <td>0.2</td>\n",
              "      <td>0.1</td>\n",
              "      <td>6.9</td>\n",
              "      <td>2.2</td>\n",
              "      <td>134.2</td>\n",
              "      <td>49.3</td>\n",
              "      <td>1481.6</td>\n",
              "      <td>764.5</td>\n",
              "      <td>306.6</td>\n",
              "      <td>84.9</td>\n",
              "      <td>35.9</td>\n",
              "      <td>13.4</td>\n",
              "      <td>750.0</td>\n",
              "      <td>Unknown</td>\n",
              "      <td>unknown</td>\n",
              "      <td>Unknown</td>\n",
              "      <td>0.0</td>\n",
              "      <td>0.0</td>\n",
              "      <td>0.701604</td>\n",
              "      <td>0.0</td>\n",
              "      <td>0.0</td>\n",
              "      <td>0.171821</td>\n",
              "      <td>2.562047</td>\n",
              "      <td>0.0</td>\n",
              "      <td>NaN</td>\n",
              "    </tr>\n",
              "    <tr>\n",
              "      <th>1</th>\n",
              "      <td>athlete 1</td>\n",
              "      <td>2è ligne</td>\n",
              "      <td>2014-07-21 00:00:00+00:00</td>\n",
              "      <td>97.65</td>\n",
              "      <td>Forwards</td>\n",
              "      <td>7.0</td>\n",
              "      <td>4674.08</td>\n",
              "      <td>2432.61</td>\n",
              "      <td>1065.51</td>\n",
              "      <td>833.21</td>\n",
              "      <td>318.12</td>\n",
              "      <td>24.64</td>\n",
              "      <td>0.0</td>\n",
              "      <td>2432.61</td>\n",
              "      <td>1898.72</td>\n",
              "      <td>342.76</td>\n",
              "      <td>24.64</td>\n",
              "      <td>22.75</td>\n",
              "      <td>47.865643</td>\n",
              "      <td>199.0</td>\n",
              "      <td>143.51</td>\n",
              "      <td>453.83</td>\n",
              "      <td>18.43</td>\n",
              "      <td>12.45</td>\n",
              "      <td>23.05</td>\n",
              "      <td>25.53</td>\n",
              "      <td>16.24</td>\n",
              "      <td>1.95</td>\n",
              "      <td>18.19</td>\n",
              "      <td>0.186278</td>\n",
              "      <td>7030.6</td>\n",
              "      <td>0.0</td>\n",
              "      <td>1.0</td>\n",
              "      <td>0.0</td>\n",
              "      <td>0.0</td>\n",
              "      <td>0.0</td>\n",
              "      <td>0.0</td>\n",
              "      <td>0.0</td>\n",
              "      <td>0.0</td>\n",
              "      <td>0.0</td>\n",
              "      <td>...</td>\n",
              "      <td>250.0</td>\n",
              "      <td>31.0</td>\n",
              "      <td>32.0</td>\n",
              "      <td>63.0</td>\n",
              "      <td>18.0</td>\n",
              "      <td>25.0</td>\n",
              "      <td>43.0</td>\n",
              "      <td>1.0</td>\n",
              "      <td>7.0</td>\n",
              "      <td>2.3</td>\n",
              "      <td>2.9</td>\n",
              "      <td>97.0</td>\n",
              "      <td>54.9</td>\n",
              "      <td>13.7</td>\n",
              "      <td>12.8</td>\n",
              "      <td>6.1</td>\n",
              "      <td>10.1</td>\n",
              "      <td>143.4</td>\n",
              "      <td>24.5</td>\n",
              "      <td>3310.4</td>\n",
              "      <td>2241.9</td>\n",
              "      <td>30881.0</td>\n",
              "      <td>439.4</td>\n",
              "      <td>923.9</td>\n",
              "      <td>1068.5</td>\n",
              "      <td>652.6</td>\n",
              "      <td>1589.3</td>\n",
              "      <td>15631.9</td>\n",
              "      <td>Unknown</td>\n",
              "      <td>unknown</td>\n",
              "      <td>Unknown</td>\n",
              "      <td>0.0</td>\n",
              "      <td>0.0</td>\n",
              "      <td>3.510087</td>\n",
              "      <td>0.0</td>\n",
              "      <td>0.0</td>\n",
              "      <td>0.256016</td>\n",
              "      <td>33.900666</td>\n",
              "      <td>0.0</td>\n",
              "      <td>NaN</td>\n",
              "    </tr>\n",
              "    <tr>\n",
              "      <th>2</th>\n",
              "      <td>athlete 1</td>\n",
              "      <td>2è ligne</td>\n",
              "      <td>2014-07-28 00:00:00+00:00</td>\n",
              "      <td>43.85</td>\n",
              "      <td>Forwards</td>\n",
              "      <td>4.0</td>\n",
              "      <td>1488.11</td>\n",
              "      <td>916.59</td>\n",
              "      <td>318.01</td>\n",
              "      <td>235.15</td>\n",
              "      <td>18.36</td>\n",
              "      <td>0.00</td>\n",
              "      <td>0.0</td>\n",
              "      <td>916.59</td>\n",
              "      <td>553.16</td>\n",
              "      <td>18.36</td>\n",
              "      <td>0.00</td>\n",
              "      <td>18.47</td>\n",
              "      <td>33.936374</td>\n",
              "      <td>176.0</td>\n",
              "      <td>140.96</td>\n",
              "      <td>124.67</td>\n",
              "      <td>3.47</td>\n",
              "      <td>9.78</td>\n",
              "      <td>16.94</td>\n",
              "      <td>11.16</td>\n",
              "      <td>2.45</td>\n",
              "      <td>0.05</td>\n",
              "      <td>2.50</td>\n",
              "      <td>0.057013</td>\n",
              "      <td>2924.0</td>\n",
              "      <td>0.0</td>\n",
              "      <td>1.0</td>\n",
              "      <td>0.0</td>\n",
              "      <td>0.0</td>\n",
              "      <td>0.0</td>\n",
              "      <td>0.0</td>\n",
              "      <td>0.0</td>\n",
              "      <td>0.0</td>\n",
              "      <td>0.0</td>\n",
              "      <td>...</td>\n",
              "      <td>48.0</td>\n",
              "      <td>10.0</td>\n",
              "      <td>8.0</td>\n",
              "      <td>18.0</td>\n",
              "      <td>2.0</td>\n",
              "      <td>10.0</td>\n",
              "      <td>12.0</td>\n",
              "      <td>0.0</td>\n",
              "      <td>4.0</td>\n",
              "      <td>3.1</td>\n",
              "      <td>2.8</td>\n",
              "      <td>73.0</td>\n",
              "      <td>41.8</td>\n",
              "      <td>1.5</td>\n",
              "      <td>0.4</td>\n",
              "      <td>0.1</td>\n",
              "      <td>0.0</td>\n",
              "      <td>7.2</td>\n",
              "      <td>2.7</td>\n",
              "      <td>103.5</td>\n",
              "      <td>25.5</td>\n",
              "      <td>1547.9</td>\n",
              "      <td>1113.5</td>\n",
              "      <td>271.1</td>\n",
              "      <td>78.0</td>\n",
              "      <td>22.2</td>\n",
              "      <td>3.3</td>\n",
              "      <td>783.5</td>\n",
              "      <td>Unknown</td>\n",
              "      <td>unknown</td>\n",
              "      <td>Unknown</td>\n",
              "      <td>0.0</td>\n",
              "      <td>0.0</td>\n",
              "      <td>0.418700</td>\n",
              "      <td>0.0</td>\n",
              "      <td>0.0</td>\n",
              "      <td>0.228050</td>\n",
              "      <td>2.360319</td>\n",
              "      <td>0.0</td>\n",
              "      <td>NaN</td>\n",
              "    </tr>\n",
              "    <tr>\n",
              "      <th>3</th>\n",
              "      <td>athlete 1</td>\n",
              "      <td>2è ligne</td>\n",
              "      <td>2014-07-28 00:00:00+00:00</td>\n",
              "      <td>70.68</td>\n",
              "      <td>Forwards</td>\n",
              "      <td>5.0</td>\n",
              "      <td>4382.54</td>\n",
              "      <td>2255.20</td>\n",
              "      <td>1155.82</td>\n",
              "      <td>615.73</td>\n",
              "      <td>261.86</td>\n",
              "      <td>93.92</td>\n",
              "      <td>0.0</td>\n",
              "      <td>2255.20</td>\n",
              "      <td>1771.55</td>\n",
              "      <td>355.78</td>\n",
              "      <td>93.92</td>\n",
              "      <td>23.00</td>\n",
              "      <td>62.005376</td>\n",
              "      <td>178.0</td>\n",
              "      <td>138.38</td>\n",
              "      <td>181.00</td>\n",
              "      <td>11.54</td>\n",
              "      <td>10.87</td>\n",
              "      <td>25.93</td>\n",
              "      <td>21.09</td>\n",
              "      <td>1.19</td>\n",
              "      <td>0.07</td>\n",
              "      <td>1.26</td>\n",
              "      <td>0.017824</td>\n",
              "      <td>5348.2</td>\n",
              "      <td>0.0</td>\n",
              "      <td>1.0</td>\n",
              "      <td>0.0</td>\n",
              "      <td>0.0</td>\n",
              "      <td>0.0</td>\n",
              "      <td>0.0</td>\n",
              "      <td>0.0</td>\n",
              "      <td>0.0</td>\n",
              "      <td>0.0</td>\n",
              "      <td>...</td>\n",
              "      <td>193.0</td>\n",
              "      <td>31.0</td>\n",
              "      <td>36.0</td>\n",
              "      <td>67.0</td>\n",
              "      <td>7.0</td>\n",
              "      <td>11.0</td>\n",
              "      <td>18.0</td>\n",
              "      <td>0.0</td>\n",
              "      <td>2.0</td>\n",
              "      <td>-0.9</td>\n",
              "      <td>1.1</td>\n",
              "      <td>45.0</td>\n",
              "      <td>64.2</td>\n",
              "      <td>3.9</td>\n",
              "      <td>1.7</td>\n",
              "      <td>0.7</td>\n",
              "      <td>0.2</td>\n",
              "      <td>21.3</td>\n",
              "      <td>5.0</td>\n",
              "      <td>577.4</td>\n",
              "      <td>214.5</td>\n",
              "      <td>4584.1</td>\n",
              "      <td>3083.4</td>\n",
              "      <td>721.7</td>\n",
              "      <td>362.9</td>\n",
              "      <td>169.2</td>\n",
              "      <td>45.3</td>\n",
              "      <td>2320.4</td>\n",
              "      <td>Unknown</td>\n",
              "      <td>unknown</td>\n",
              "      <td>Unknown</td>\n",
              "      <td>0.0</td>\n",
              "      <td>0.0</td>\n",
              "      <td>5.033673</td>\n",
              "      <td>0.0</td>\n",
              "      <td>0.0</td>\n",
              "      <td>0.155631</td>\n",
              "      <td>8.169213</td>\n",
              "      <td>0.0</td>\n",
              "      <td>NaN</td>\n",
              "    </tr>\n",
              "    <tr>\n",
              "      <th>4</th>\n",
              "      <td>athlete 1</td>\n",
              "      <td>2è ligne</td>\n",
              "      <td>2014-07-22 00:00:00+00:00</td>\n",
              "      <td>56.20</td>\n",
              "      <td>Forwards</td>\n",
              "      <td>3.0</td>\n",
              "      <td>1755.01</td>\n",
              "      <td>1079.84</td>\n",
              "      <td>404.80</td>\n",
              "      <td>262.40</td>\n",
              "      <td>7.97</td>\n",
              "      <td>0.00</td>\n",
              "      <td>0.0</td>\n",
              "      <td>1079.84</td>\n",
              "      <td>667.20</td>\n",
              "      <td>7.97</td>\n",
              "      <td>0.00</td>\n",
              "      <td>18.00</td>\n",
              "      <td>31.227936</td>\n",
              "      <td>206.0</td>\n",
              "      <td>133.06</td>\n",
              "      <td>149.89</td>\n",
              "      <td>19.55</td>\n",
              "      <td>10.80</td>\n",
              "      <td>13.10</td>\n",
              "      <td>10.33</td>\n",
              "      <td>1.75</td>\n",
              "      <td>0.68</td>\n",
              "      <td>2.43</td>\n",
              "      <td>0.043231</td>\n",
              "      <td>3715.6</td>\n",
              "      <td>0.0</td>\n",
              "      <td>1.0</td>\n",
              "      <td>0.0</td>\n",
              "      <td>0.0</td>\n",
              "      <td>0.0</td>\n",
              "      <td>0.0</td>\n",
              "      <td>0.0</td>\n",
              "      <td>0.0</td>\n",
              "      <td>0.0</td>\n",
              "      <td>...</td>\n",
              "      <td>46.0</td>\n",
              "      <td>5.0</td>\n",
              "      <td>10.0</td>\n",
              "      <td>15.0</td>\n",
              "      <td>3.0</td>\n",
              "      <td>5.0</td>\n",
              "      <td>8.0</td>\n",
              "      <td>0.0</td>\n",
              "      <td>2.0</td>\n",
              "      <td>-2.1</td>\n",
              "      <td>1.7</td>\n",
              "      <td>35.0</td>\n",
              "      <td>38.0</td>\n",
              "      <td>5.5</td>\n",
              "      <td>6.5</td>\n",
              "      <td>2.7</td>\n",
              "      <td>3.5</td>\n",
              "      <td>52.4</td>\n",
              "      <td>15.5</td>\n",
              "      <td>1239.4</td>\n",
              "      <td>744.2</td>\n",
              "      <td>11272.6</td>\n",
              "      <td>152.8</td>\n",
              "      <td>362.8</td>\n",
              "      <td>495.2</td>\n",
              "      <td>261.5</td>\n",
              "      <td>482.7</td>\n",
              "      <td>5706.2</td>\n",
              "      <td>Unknown</td>\n",
              "      <td>unknown</td>\n",
              "      <td>Unknown</td>\n",
              "      <td>0.0</td>\n",
              "      <td>0.0</td>\n",
              "      <td>0.141815</td>\n",
              "      <td>0.0</td>\n",
              "      <td>0.0</td>\n",
              "      <td>0.088968</td>\n",
              "      <td>22.053381</td>\n",
              "      <td>0.0</td>\n",
              "      <td>NaN</td>\n",
              "    </tr>\n",
              "  </tbody>\n",
              "</table>\n",
              "<p>5 rows × 83 columns</p>\n",
              "</div>"
            ],
            "text/plain": [
              "     Athlete  Position                      Date  ...   HMPD.min Sp_acc  Target\n",
              "0  athlete 1  2è ligne 2014-07-21 00:00:00+00:00  ...   2.562047    0.0     NaN\n",
              "1  athlete 1  2è ligne 2014-07-21 00:00:00+00:00  ...  33.900666    0.0     NaN\n",
              "2  athlete 1  2è ligne 2014-07-28 00:00:00+00:00  ...   2.360319    0.0     NaN\n",
              "3  athlete 1  2è ligne 2014-07-28 00:00:00+00:00  ...   8.169213    0.0     NaN\n",
              "4  athlete 1  2è ligne 2014-07-22 00:00:00+00:00  ...  22.053381    0.0     NaN\n",
              "\n",
              "[5 rows x 83 columns]"
            ]
          },
          "metadata": {
            "tags": []
          },
          "execution_count": 31
        }
      ]
    },
    {
      "cell_type": "code",
      "metadata": {
        "id": "DOwEuZXhbSbI"
      },
      "source": [
        "# merging full data and training phase data\n",
        "data_full.Date = pd.to_datetime(data_full.Date)\n",
        "\n",
        "data_full = data_full.merge(data_phases.drop_duplicates(subset=\"Date\"), on=\"Date\", how=\"left\")\n",
        "\n",
        "# replacing na values with Unknow label\n",
        "data_full[\"Target\"].fillna(\"Unknown\", inplace = True) "
      ],
      "execution_count": 32,
      "outputs": []
    },
    {
      "cell_type": "code",
      "metadata": {
        "id": "wZGm8IJN4GaV"
      },
      "source": [
        "# renaming Target column to more intuitive \n",
        "data_full = data_full.rename({'Target': 'Phase'}, axis=1) "
      ],
      "execution_count": 33,
      "outputs": []
    },
    {
      "cell_type": "code",
      "metadata": {
        "id": "rz3_sHaXykHf",
        "outputId": "59d2e273-17ed-4ee7-b0af-d666fe8144b6",
        "colab": {
          "base_uri": "https://localhost:8080/",
          "height": 34
        }
      },
      "source": [
        "data_full.shape"
      ],
      "execution_count": 34,
      "outputs": [
        {
          "output_type": "execute_result",
          "data": {
            "text/plain": [
              "(2188, 90)"
            ]
          },
          "metadata": {
            "tags": []
          },
          "execution_count": 34
        }
      ]
    },
    {
      "cell_type": "code",
      "metadata": {
        "id": "H76r8rADDVnc"
      },
      "source": [
        ""
      ],
      "execution_count": 34,
      "outputs": []
    },
    {
      "cell_type": "markdown",
      "metadata": {
        "id": "disxltJSe3WO"
      },
      "source": [
        "# EDA\n"
      ]
    },
    {
      "cell_type": "code",
      "metadata": {
        "id": "LlcfV4rvMm2V"
      },
      "source": [
        "# Selecting training observation only\n",
        "data_acp = data_full[(data_full[\"Day Code\"]!= \"Game day\") & (data_full[\"Day Code\"]!= \"Game\" )]"
      ],
      "execution_count": 35,
      "outputs": []
    },
    {
      "cell_type": "code",
      "metadata": {
        "id": "tBuUzmNo1K_4",
        "outputId": "74d0bc4a-bf36-428a-cdcc-ebf44260b5b4",
        "colab": {
          "base_uri": "https://localhost:8080/",
          "height": 34
        }
      },
      "source": [
        "# Checking for types of training phase / target \n",
        "data_acp[\"Phase\"].unique()"
      ],
      "execution_count": 36,
      "outputs": [
        {
          "output_type": "execute_result",
          "data": {
            "text/plain": [
              "array(['Unknown', 'Explosive', 'Energetic'], dtype=object)"
            ]
          },
          "metadata": {
            "tags": []
          },
          "execution_count": 36
        }
      ]
    },
    {
      "cell_type": "markdown",
      "metadata": {
        "id": "5WrB0mRHFSL3"
      },
      "source": [
        "* 2 phases + Unknown"
      ]
    },
    {
      "cell_type": "code",
      "metadata": {
        "id": "xc6iMnEv1tAn",
        "outputId": "947e3379-6405-4c67-fb29-3b5d310c8655",
        "colab": {
          "base_uri": "https://localhost:8080/",
          "height": 295
        }
      },
      "source": [
        "# Countplot for phase\n",
        "sns.countplot(x=\"Phase\",data=data_acp,hue=\"Phase\")\n",
        "plt.title(\"Nb observations by phases\")\n",
        "plt.show()"
      ],
      "execution_count": 37,
      "outputs": [
        {
          "output_type": "display_data",
          "data": {
            "image/png": "[encoded data removed]",
            "text/plain": [
              "<Figure size 432x288 with 1 Axes>"
            ]
          },
          "metadata": {
            "tags": [],
            "needs_background": "light"
          }
        }
      ]
    },
    {
      "cell_type": "code",
      "metadata": {
        "id": "5oXM1c6-fd3x",
        "outputId": "106fe858-69f7-47bd-c965-c9410beb1c4b",
        "colab": {
          "base_uri": "https://localhost:8080/",
          "height": 68
        }
      },
      "source": [
        "# Getting numeric features\n",
        "objList = data_acp.select_dtypes(include = \"object\").columns\n",
        "print (objList)\n"
      ],
      "execution_count": 38,
      "outputs": [
        {
          "output_type": "stream",
          "text": [
            "Index(['Athlete', 'Position', 'Session', 'Drill', 'Day Code', 'Participation',\n",
            "       'Squad', 'Temperature', 'Weather', 'Grass', 'Type', 'Phase'],\n",
            "      dtype='object')\n"
          ],
          "name": "stdout"
        }
      ]
    },
    {
      "cell_type": "code",
      "metadata": {
        "id": "_X0_x-O6FrSj"
      },
      "source": [
        "# kepping phase only \n",
        "objList[:-1]\n",
        "data_acp = data_acp.drop(objList[:-1], axis = 1)"
      ],
      "execution_count": 39,
      "outputs": []
    },
    {
      "cell_type": "code",
      "metadata": {
        "id": "wzfucBncEls2",
        "outputId": "56b8b604-b14d-4795-a02c-0b40588a330e",
        "colab": {
          "base_uri": "https://localhost:8080/",
          "height": 513
        }
      },
      "source": [
        "# Plotting phase threw the season\n",
        "data_acp.sort_values(\"Weeks\").head(5)\n",
        "plt.figure(figsize=(16,8))\n",
        "sns.countplot(x=\"Weeks\",data=data_acp,hue=\"Phase\")\n",
        "plt.title(\"Phase type per weeks\")\n",
        "plt.show()"
      ],
      "execution_count": 40,
      "outputs": [
        {
          "output_type": "display_data",
          "data": {
            "image/png": "[encoded data removed]",
            "text/plain": [
              "<Figure size 1152x576 with 1 Axes>"
            ]
          },
          "metadata": {
            "tags": [],
            "needs_background": "light"
          }
        }
      ]
    },
    {
      "cell_type": "markdown",
      "metadata": {
        "id": "cMN-fBSJJUzh"
      },
      "source": [
        "* Unknow mostly at start of season -> energetic ?"
      ]
    },
    {
      "cell_type": "code",
      "metadata": {
        "id": "sdMy7SQWhN9F"
      },
      "source": [
        "# Dropping unused features\n",
        "data_acp = data_acp.drop([\"RPE\", \"Date\",\"Weeks\"], axis = 1)"
      ],
      "execution_count": 41,
      "outputs": []
    },
    {
      "cell_type": "code",
      "metadata": {
        "id": "3Zp6OyPSpSco",
        "outputId": "bb9854d5-0de2-4c1b-b2c9-60b8c236fe3f",
        "colab": {
          "base_uri": "https://localhost:8080/",
          "height": 34
        }
      },
      "source": [
        "# number of unknown phase training session\n",
        "len(data_acp[data_acp[\"Phase\"]==\"Unknown\"])"
      ],
      "execution_count": 42,
      "outputs": [
        {
          "output_type": "execute_result",
          "data": {
            "text/plain": [
              "263"
            ]
          },
          "metadata": {
            "tags": []
          },
          "execution_count": 42
        }
      ]
    },
    {
      "cell_type": "code",
      "metadata": {
        "id": "ixSHzb38pZwN",
        "outputId": "7825bcbe-023d-4604-c079-28321102f01f",
        "colab": {
          "base_uri": "https://localhost:8080/",
          "height": 34
        }
      },
      "source": [
        "# Percentage of unknown phase training session\n",
        "len(data_acp[data_acp[\"Phase\"]==\"Unknown\"])/len(data_acp)"
      ],
      "execution_count": 43,
      "outputs": [
        {
          "output_type": "execute_result",
          "data": {
            "text/plain": [
              "0.12359022556390978"
            ]
          },
          "metadata": {
            "tags": []
          },
          "execution_count": 43
        }
      ]
    },
    {
      "cell_type": "code",
      "metadata": {
        "id": "VITm8NBjmMOY"
      },
      "source": [
        "# split data to built a model on session with a label (phase)\n",
        "data_unknown = data_acp[data_acp[\"Phase\"]==\"Unknown\"]\n",
        "data_acp = data_acp[data_acp[\"Phase\"]!=\"Unknown\"]"
      ],
      "execution_count": 44,
      "outputs": []
    },
    {
      "cell_type": "code",
      "metadata": {
        "id": "Sjt2uM0q7WBf",
        "outputId": "058922df-033a-49fc-ee58-9be9911633b5",
        "colab": {
          "base_uri": "https://localhost:8080/",
          "height": 34
        }
      },
      "source": [
        "#Label Encoding phase to numeric conversion\n",
        "from sklearn.preprocessing import LabelEncoder\n",
        "\n",
        "labelencoder=LabelEncoder()\n",
        "data_acp[\"Target\"] = labelencoder.fit_transform(data_acp[\"Phase\"])\n",
        "data_acp[\"Target\"].unique()"
      ],
      "execution_count": 45,
      "outputs": [
        {
          "output_type": "execute_result",
          "data": {
            "text/plain": [
              "array([1, 0])"
            ]
          },
          "metadata": {
            "tags": []
          },
          "execution_count": 45
        }
      ]
    },
    {
      "cell_type": "code",
      "metadata": {
        "id": "3HibfQcS-aND"
      },
      "source": [
        "# Scaling\n",
        "from sklearn import preprocessing\n",
        "\n",
        "X = data_acp.iloc[:,:-2].values\n",
        "\n",
        "std_scale = preprocessing.StandardScaler().fit(X)\n",
        "X_scaled = std_scale.transform(X)"
      ],
      "execution_count": 46,
      "outputs": []
    },
    {
      "cell_type": "markdown",
      "metadata": {
        "id": "UtKt63bMmKHt"
      },
      "source": [
        "## PCA"
      ]
    },
    {
      "cell_type": "code",
      "metadata": {
        "id": "GSHYhXHpmKHw",
        "outputId": "5c6a3be4-1a57-43c8-f8d0-e01447e514d4",
        "colab": {
          "base_uri": "https://localhost:8080/",
          "height": 265
        }
      },
      "source": [
        "import matplotlib.pyplot as plt\n",
        "\n",
        "from sklearn import decomposition\n",
        "p=2\n",
        "pca = decomposition.PCA(n_components=p)\n",
        "pca.fit(X_scaled)\n",
        "\n",
        "# projeter X sur les composantes principales\n",
        "X_projected = pca.transform(X_scaled)\n",
        "\n",
        "# afficher chaque observation\n",
        "plt.scatter(X_projected[:, 0], X_projected[:, 1])\n",
        "\n",
        "plt.show()"
      ],
      "execution_count": 47,
      "outputs": [
        {
          "output_type": "display_data",
          "data": {
            "image/png": "[encoded data removed]",
            "text/plain": [
              "<Figure size 432x288 with 1 Axes>"
            ]
          },
          "metadata": {
            "tags": [],
            "needs_background": "light"
          }
        }
      ]
    },
    {
      "cell_type": "code",
      "metadata": {
        "id": "bGynUSQCvnHX",
        "outputId": "2b9209a1-4a0f-4639-f3be-e10466c7ab3c",
        "colab": {
          "base_uri": "https://localhost:8080/",
          "height": 51
        }
      },
      "source": [
        "#variance explained\n",
        "print(pca.explained_variance_ratio_)\n",
        "print(pca.explained_variance_ratio_.sum())"
      ],
      "execution_count": 48,
      "outputs": [
        {
          "output_type": "stream",
          "text": [
            "[0.37997143 0.11387707]\n",
            "0.493848506954585\n"
          ],
          "name": "stdout"
        }
      ]
    },
    {
      "cell_type": "code",
      "metadata": {
        "id": "YlLdfOdyytB4",
        "outputId": "fa1f69f0-1072-4f93-8ff5-6be760c10368",
        "colab": {
          "base_uri": "https://localhost:8080/",
          "height": 295
        }
      },
      "source": [
        "# Cumsum of variance explained\n",
        "plt.bar(np.arange(1,p+1),np.cumsum(pca.explained_variance_ratio_))\n",
        "plt.title(\"Explained variance vs. # of factors\")\n",
        "plt.ylabel(\"Cumsum explained variance ratio\")\n",
        "plt.xlabel(\"Factor number\")\n",
        "plt.hlines(0.5,1,p, linestyles=\"--\", color = \"r\")\n",
        "plt.show()"
      ],
      "execution_count": 49,
      "outputs": [
        {
          "output_type": "display_data",
          "data": {
            "image/png": "[encoded data removed]",
            "text/plain": [
              "<Figure size 432x288 with 1 Axes>"
            ]
          },
          "metadata": {
            "tags": [],
            "needs_background": "light"
          }
        }
      ]
    },
    {
      "cell_type": "code",
      "metadata": {
        "id": "jVO5asnZD4MR",
        "outputId": "6eeecd34-b92e-4b61-8963-691426d31e29",
        "colab": {
          "base_uri": "https://localhost:8080/",
          "height": 265
        }
      },
      "source": [
        "# plotting with color based on phase\n",
        "plt.scatter(X_projected[:, 0], X_projected[:, 1],c= data_acp[\"Target\"], label = data_acp[\"Phase\"])\n",
        "plt.show()"
      ],
      "execution_count": 50,
      "outputs": [
        {
          "output_type": "display_data",
          "data": {
            "image/png": "[encoded data removed]",
            "text/plain": [
              "<Figure size 432x288 with 1 Axes>"
            ]
          },
          "metadata": {
            "tags": [],
            "needs_background": "light"
          }
        }
      ]
    },
    {
      "cell_type": "markdown",
      "metadata": {
        "id": "e9LwOtt7mW5R"
      },
      "source": [
        "## t-SNE"
      ]
    },
    {
      "cell_type": "code",
      "metadata": {
        "id": "T254TEVzmW5S",
        "outputId": "9b450b7b-ce08-4781-c5b3-477112b13e09",
        "colab": {
          "base_uri": "https://localhost:8080/",
          "height": 265
        }
      },
      "source": [
        "# t-SNE\n",
        "from sklearn import manifold\n",
        "tsne = manifold.TSNE(n_components=p,perplexity=40, n_iter=3000, init='pca')\n",
        "X_trans = tsne.fit_transform(X_scaled)\n",
        "\n",
        "\n",
        "# plotting with color based on phase\n",
        "plt.scatter(X_trans[:, 0], X_trans[:, 1],c= data_acp[\"Target\"])\n",
        "\n",
        "\n",
        "plt.show()"
      ],
      "execution_count": 51,
      "outputs": [
        {
          "output_type": "display_data",
          "data": {
            "image/png": "[encoded data removed]",
            "text/plain": [
              "<Figure size 432x288 with 1 Axes>"
            ]
          },
          "metadata": {
            "tags": [],
            "needs_background": "light"
          }
        }
      ]
    },
    {
      "cell_type": "markdown",
      "metadata": {
        "id": "i-vH7rZYlpM2"
      },
      "source": [
        "# MODELING"
      ]
    },
    {
      "cell_type": "markdown",
      "metadata": {
        "id": "AffGcAq2rYZD"
      },
      "source": [
        "## Train, test split"
      ]
    },
    {
      "cell_type": "code",
      "metadata": {
        "id": "Wti2iJACrX9m"
      },
      "source": [
        "from sklearn.model_selection import train_test_split\n",
        "\n",
        "# features\n",
        "X = X_scaled\n",
        "\n",
        "# labels\n",
        "y = data_acp[\"Target\"]\n",
        "\n",
        "X_train, X_test, y_train, y_test = train_test_split(X, y, test_size=0.33)"
      ],
      "execution_count": 52,
      "outputs": []
    },
    {
      "cell_type": "markdown",
      "metadata": {
        "id": "qlf1LwVBq4Xo"
      },
      "source": [
        "## Logistic\n"
      ]
    },
    {
      "cell_type": "code",
      "metadata": {
        "id": "NV7Zwgu4slyo"
      },
      "source": [
        "from sklearn.linear_model import LogisticRegression\n",
        "from sklearn.metrics import precision_score\n",
        "from sklearn import metrics\n",
        "from sklearn.metrics import roc_auc_score\n",
        "from sklearn.metrics import roc_curve\n",
        "from sklearn.metrics import accuracy_score"
      ],
      "execution_count": 53,
      "outputs": []
    },
    {
      "cell_type": "code",
      "metadata": {
        "id": "zjl1E297rMG6",
        "outputId": "3e6e5917-4c89-460d-81e5-e7ef78bb5b0e",
        "colab": {
          "base_uri": "https://localhost:8080/",
          "height": 51
        }
      },
      "source": [
        "# Builing model\n",
        "logreg = LogisticRegression()\n",
        "\n",
        "logreg.fit(X_train, y_train)\n",
        "\n",
        "# Make prediction\n",
        "y_prob = logreg.predict_proba(X_test)[:,1] \n",
        "y_pred = np.where(y_prob > 0.5, 1, 0)\n",
        "\n",
        "# print results\n",
        "print('Accuracy : ', np.round(accuracy_score(y_test, y_pred),3) )\n",
        "print('AUC : ', np.round(roc_auc_score(y_test, y_pred),3))"
      ],
      "execution_count": 54,
      "outputs": [
        {
          "output_type": "stream",
          "text": [
            "Accuracy :  0.901\n",
            "AUC :  0.88\n"
          ],
          "name": "stdout"
        }
      ]
    },
    {
      "cell_type": "code",
      "metadata": {
        "id": "xx-2oerzstcS",
        "outputId": "3e44716d-f3d4-4532-8e18-0fdb165277f8",
        "colab": {
          "base_uri": "https://localhost:8080/",
          "height": 295
        }
      },
      "source": [
        "# plotting ROC curve\n",
        "fpr, tpr, thresholds = roc_curve(y_test, y_pred)\n",
        "plt.plot(fpr, tpr)\n",
        "plt.title(\"ROC Logistic model\")\n",
        "plt.xlabel(\"False Positive Rate\")\n",
        "plt.ylabel(\"True Positive Rate\")\n",
        "plt.show()"
      ],
      "execution_count": 55,
      "outputs": [
        {
          "output_type": "display_data",
          "data": {
            "image/png": "[encoded data removed]",
            "text/plain": [
              "<Figure size 432x288 with 1 Axes>"
            ]
          },
          "metadata": {
            "tags": [],
            "needs_background": "light"
          }
        }
      ]
    },
    {
      "cell_type": "markdown",
      "metadata": {
        "id": "11YmDJdavmhq"
      },
      "source": [
        "#### Gridsearch"
      ]
    },
    {
      "cell_type": "code",
      "metadata": {
        "id": "ZXbWy4YPvmhs",
        "outputId": "10c648ef-3ccc-470d-d6e7-225556c11717",
        "colab": {
          "base_uri": "https://localhost:8080/",
          "height": 34
        }
      },
      "source": [
        "from sklearn.model_selection import cross_val_score\n",
        "from sklearn.model_selection import GridSearchCV\n",
        "\n",
        "# Builing model\n",
        "lr = LogisticRegression(solver = 'liblinear')\n",
        "params = {'C': np.logspace(-3, 3, 7) , 'penalty':['l1','l2'] }\n",
        "\n",
        "lr_gs = GridSearchCV(lr, params, cv=10)\n",
        "lr_gs.fit(X_train, y_train)\n",
        "\n",
        "print(lr_gs.best_params_)"
      ],
      "execution_count": 56,
      "outputs": [
        {
          "output_type": "stream",
          "text": [
            "{'C': 100.0, 'penalty': 'l2'}\n"
          ],
          "name": "stdout"
        }
      ]
    },
    {
      "cell_type": "code",
      "metadata": {
        "id": "OB3qBzaQ0GGy",
        "outputId": "b78dbb1e-4da7-4cb1-e8f7-7d9433a86d1d",
        "colab": {
          "base_uri": "https://localhost:8080/",
          "height": 51
        }
      },
      "source": [
        "# Make prediction\n",
        "y_prob = lr_gs.predict_proba(X_test)[:,1] \n",
        "y_pred = np.where(y_prob > 0.5, 1, 0) \n",
        "\n",
        "# Saving results\n",
        "log_acc = np.round(accuracy_score(y_test, y_pred),3)\n",
        "\n",
        "# printing results\n",
        "print('Accuracy : ', np.round(accuracy_score(y_test, y_pred),3) )\n",
        "print('AUC : ', np.round(roc_auc_score(y_test, y_pred),3))"
      ],
      "execution_count": 57,
      "outputs": [
        {
          "output_type": "stream",
          "text": [
            "Accuracy :  0.898\n",
            "AUC :  0.882\n"
          ],
          "name": "stdout"
        }
      ]
    },
    {
      "cell_type": "code",
      "metadata": {
        "id": "9C6fzLTa0PQo",
        "outputId": "16096a4f-7891-42c1-c067-dd2cd259d123",
        "colab": {
          "base_uri": "https://localhost:8080/",
          "height": 295
        }
      },
      "source": [
        "# plotting ROC curve\n",
        "fpr, tpr, thresholds = roc_curve(y_test, y_pred)\n",
        "plt.plot(fpr, tpr)\n",
        "plt.title(\"ROC Logistic model\")\n",
        "plt.xlabel(\"False Positive Rate\")\n",
        "plt.ylabel(\"True Positive Rate\")\n",
        "plt.show()"
      ],
      "execution_count": 58,
      "outputs": [
        {
          "output_type": "display_data",
          "data": {
            "image/png": "[encoded data removed]",
            "text/plain": [
              "<Figure size 432x288 with 1 Axes>"
            ]
          },
          "metadata": {
            "tags": [],
            "needs_background": "light"
          }
        }
      ]
    },
    {
      "cell_type": "markdown",
      "metadata": {
        "id": "zQ3GHliZ1AEk"
      },
      "source": [
        "## SVM classification"
      ]
    },
    {
      "cell_type": "code",
      "metadata": {
        "id": "kLvlUuK51Cmd",
        "outputId": "67555c8f-4e28-4530-f496-89a8469046c0",
        "colab": {
          "base_uri": "https://localhost:8080/",
          "height": 34
        }
      },
      "source": [
        "from sklearn.svm import LinearSVC\n",
        "from sklearn.model_selection import GridSearchCV\n",
        "from sklearn.metrics import roc_curve, auc\n",
        "\n",
        "# Builing model\n",
        "svm = LinearSVC()\n",
        "\n",
        "params = { 'C': np.logspace(-3, 3, 7) }\n",
        "\n",
        "gs_svm = GridSearchCV(lr, params, cv=10)\n",
        "gs_svm.fit(X_train, y_train)\n",
        "\n",
        "print(gs_svm.best_params_)"
      ],
      "execution_count": 59,
      "outputs": [
        {
          "output_type": "stream",
          "text": [
            "{'C': 100.0}\n"
          ],
          "name": "stdout"
        }
      ]
    },
    {
      "cell_type": "code",
      "metadata": {
        "id": "Oj8aAlEb1T5g",
        "outputId": "c454b014-9ca4-4e60-f408-790476a382e5",
        "colab": {
          "base_uri": "https://localhost:8080/",
          "height": 51
        }
      },
      "source": [
        "# Make prediction\n",
        "y_prob = gs_svm.predict_proba(X_test)[:,1] \n",
        "y_pred = np.where(y_prob > 0.5, 1, 0) \n",
        "\n",
        "# Saving results\n",
        "svm_acc = np.round(accuracy_score(y_test, y_pred),3)\n",
        "\n",
        "# printing results\n",
        "print('Accuracy : ', np.round(accuracy_score(y_test, y_pred),3) )\n",
        "print('AUC : ', np.round(roc_auc_score(y_test, y_pred),3))"
      ],
      "execution_count": 60,
      "outputs": [
        {
          "output_type": "stream",
          "text": [
            "Accuracy :  0.898\n",
            "AUC :  0.882\n"
          ],
          "name": "stdout"
        }
      ]
    },
    {
      "cell_type": "code",
      "metadata": {
        "id": "eyvy8Xv71T5l",
        "outputId": "30a97b12-18b2-4b84-b3bb-4637c1477862",
        "colab": {
          "base_uri": "https://localhost:8080/",
          "height": 295
        }
      },
      "source": [
        "# plotting ROC curve\n",
        "fpr, tpr, thresholds = roc_curve(y_test, y_pred)\n",
        "plt.plot(fpr, tpr)\n",
        "plt.title(\"ROC SVM model\")\n",
        "plt.xlabel(\"False Positive Rate\")\n",
        "plt.ylabel(\"True Positive Rate\")\n",
        "plt.show()"
      ],
      "execution_count": 61,
      "outputs": [
        {
          "output_type": "display_data",
          "data": {
            "image/png": "[encoded data removed]",
            "text/plain": [
              "<Figure size 432x288 with 1 Axes>"
            ]
          },
          "metadata": {
            "tags": [],
            "needs_background": "light"
          }
        }
      ]
    },
    {
      "cell_type": "markdown",
      "metadata": {
        "id": "RgSntyEuLfnB"
      },
      "source": [
        "## kNN"
      ]
    },
    {
      "cell_type": "code",
      "metadata": {
        "id": "kIJjuhGXKjDe",
        "outputId": "d1595b08-135f-40ff-c726-f3fe461812e0",
        "colab": {
          "base_uri": "https://localhost:8080/",
          "height": 265
        }
      },
      "source": [
        "from sklearn import neighbors\n",
        "import matplotlib.pyplot as plt\n",
        "\n",
        "errors = []\n",
        "for k in range(2,25):\n",
        "    knn = neighbors.KNeighborsClassifier(k)\n",
        "    errors.append(100*(1 - knn.fit(X_train, y_train).score(X_test, y_test)))\n",
        "plt.plot(range(2,25), errors, 'o-')\n",
        "plt.show()"
      ],
      "execution_count": 62,
      "outputs": [
        {
          "output_type": "display_data",
          "data": {
            "image/png": "[encoded data removed]",
            "text/plain": [
              "<Figure size 432x288 with 1 Axes>"
            ]
          },
          "metadata": {
            "tags": [],
            "needs_background": "light"
          }
        }
      ]
    },
    {
      "cell_type": "code",
      "metadata": {
        "id": "fzQ5Wq5_K_5r",
        "outputId": "e2aa82ee-9e66-472b-8777-c45d0ecd8523",
        "colab": {
          "base_uri": "https://localhost:8080/",
          "height": 51
        }
      },
      "source": [
        "# Builing model\n",
        "\n",
        "knn = neighbors.KNeighborsClassifier(n_neighbors=2)\n",
        "knn.fit(X_train, y_train)\n",
        "\n",
        "# Make prediction\n",
        "y_prob = knn.predict_proba(X_test)[:,1] \n",
        "y_pred = np.where(y_prob > 0.5, 1, 0) \n",
        "\n",
        "# printing results\n",
        "print('Accuracy : ', np.round(accuracy_score(y_test, y_pred),3) )\n",
        "print('AUC : ', np.round(roc_auc_score(y_test, y_pred),3))"
      ],
      "execution_count": 63,
      "outputs": [
        {
          "output_type": "stream",
          "text": [
            "Accuracy :  0.929\n",
            "AUC :  0.906\n"
          ],
          "name": "stdout"
        }
      ]
    },
    {
      "cell_type": "code",
      "metadata": {
        "id": "t12qS6hj4C4H",
        "outputId": "4c14ee99-3669-4800-ef42-f05683a0613a",
        "colab": {
          "base_uri": "https://localhost:8080/",
          "height": 295
        }
      },
      "source": [
        "# plotting ROC curve\n",
        "fpr, tpr, thresholds = roc_curve(y_test, y_pred)\n",
        "plt.plot(fpr, tpr)\n",
        "plt.title(\"ROC kNN model\")\n",
        "plt.xlabel(\"False Positive Rate\")\n",
        "plt.ylabel(\"True Positive Rate\")\n",
        "plt.show()"
      ],
      "execution_count": 64,
      "outputs": [
        {
          "output_type": "display_data",
          "data": {
            "image/png": "[encoded data removed]",
            "text/plain": [
              "<Figure size 432x288 with 1 Axes>"
            ]
          },
          "metadata": {
            "tags": [],
            "needs_background": "light"
          }
        }
      ]
    },
    {
      "cell_type": "code",
      "metadata": {
        "id": "rjohhfBx47k4",
        "outputId": "2cdb81ce-a146-42cc-8b19-b53f18a17d5c",
        "colab": {
          "base_uri": "https://localhost:8080/",
          "height": 476
        }
      },
      "source": [
        "from sklearn import neighbors, metrics\n",
        "from sklearn import model_selection\n",
        "\n",
        "# Builing model \n",
        "\n",
        "nb_k = np.arange(1,25,1)\n",
        "\n",
        "# Fixer les valeurs des hyperparamètres à tester\n",
        "param_grid = {'n_neighbors': nb_k}\n",
        "\n",
        "# Choisir un score à optimiser, ici l'accuracy (proportion de prédictions correctes)\n",
        "score = 'accuracy'\n",
        "\n",
        "# Créer un classifieur kNN avec recherche d'hyperparamètre par validation croisée\n",
        "clf = model_selection.GridSearchCV(\n",
        "    neighbors.KNeighborsClassifier(), # un classifieur kNN\n",
        "    param_grid,     # hyperparamètres à tester\n",
        "    cv=5,           # nombre de folds de validation croisée\n",
        "    scoring=score   # score à optimiser\n",
        ")\n",
        "\n",
        "# Optimiser ce classifieur sur le jeu d'entraînement\n",
        "clf.fit(X_train, y_train)\n",
        "\n",
        "# Afficher le(s) hyperparamètre(s) optimaux\n",
        "print(\"Meilleur(s) hyperparamètre(s) sur le jeu d'entraînement:\")\n",
        "print(clf.best_params_)\n",
        "\n",
        "# Afficher les performances correspondantes\n",
        "print(\"Résultats de la validation croisée :\")\n",
        "for mean, std, params in zip(\n",
        "        clf.cv_results_['mean_test_score'], # score moyen\n",
        "        clf.cv_results_['std_test_score'],  # écart-type du score\n",
        "        clf.cv_results_['params']           # valeur de l'hyperparamètre\n",
        "    ):\n",
        "\n",
        "    print(\"{} = {:.3f} (+/-{:.03f}) for {}\".format(\n",
        "        score,\n",
        "        mean,\n",
        "        std*2,\n",
        "        params\n",
        "    ) )\n"
      ],
      "execution_count": 65,
      "outputs": [
        {
          "output_type": "stream",
          "text": [
            "Meilleur(s) hyperparamètre(s) sur le jeu d'entraînement:\n",
            "{'n_neighbors': 1}\n",
            "Résultats de la validation croisée :\n",
            "accuracy = 0.913 (+/-0.029) for {'n_neighbors': 1}\n",
            "accuracy = 0.898 (+/-0.026) for {'n_neighbors': 2}\n",
            "accuracy = 0.910 (+/-0.011) for {'n_neighbors': 3}\n",
            "accuracy = 0.907 (+/-0.016) for {'n_neighbors': 4}\n",
            "accuracy = 0.905 (+/-0.018) for {'n_neighbors': 5}\n",
            "accuracy = 0.899 (+/-0.023) for {'n_neighbors': 6}\n",
            "accuracy = 0.904 (+/-0.020) for {'n_neighbors': 7}\n",
            "accuracy = 0.897 (+/-0.023) for {'n_neighbors': 8}\n",
            "accuracy = 0.895 (+/-0.013) for {'n_neighbors': 9}\n",
            "accuracy = 0.891 (+/-0.021) for {'n_neighbors': 10}\n",
            "accuracy = 0.896 (+/-0.018) for {'n_neighbors': 11}\n",
            "accuracy = 0.894 (+/-0.013) for {'n_neighbors': 12}\n",
            "accuracy = 0.895 (+/-0.012) for {'n_neighbors': 13}\n",
            "accuracy = 0.896 (+/-0.020) for {'n_neighbors': 14}\n",
            "accuracy = 0.896 (+/-0.023) for {'n_neighbors': 15}\n",
            "accuracy = 0.897 (+/-0.019) for {'n_neighbors': 16}\n",
            "accuracy = 0.895 (+/-0.024) for {'n_neighbors': 17}\n",
            "accuracy = 0.894 (+/-0.023) for {'n_neighbors': 18}\n",
            "accuracy = 0.894 (+/-0.013) for {'n_neighbors': 19}\n",
            "accuracy = 0.890 (+/-0.028) for {'n_neighbors': 20}\n",
            "accuracy = 0.894 (+/-0.017) for {'n_neighbors': 21}\n",
            "accuracy = 0.894 (+/-0.018) for {'n_neighbors': 22}\n",
            "accuracy = 0.893 (+/-0.015) for {'n_neighbors': 23}\n",
            "accuracy = 0.889 (+/-0.016) for {'n_neighbors': 24}\n"
          ],
          "name": "stdout"
        }
      ]
    },
    {
      "cell_type": "code",
      "metadata": {
        "id": "3K9W3ABZ5QNU",
        "outputId": "f3e875d6-e71d-4dda-e50d-ff0a5955ee42",
        "colab": {
          "base_uri": "https://localhost:8080/",
          "height": 51
        }
      },
      "source": [
        "# Make prediction\n",
        "y_prob = clf.predict_proba(X_test)[:,1] \n",
        "y_pred = np.where(y_prob > 0.5, 1, 0) \n",
        "\n",
        "# Saving results\n",
        "knn_acc = np.round(accuracy_score(y_test, y_pred),3)\n",
        "\n",
        "# printing results\n",
        "print('Accuracy : ', np.round(accuracy_score(y_test, y_pred),3) )\n",
        "print('AUC : ', np.round(roc_auc_score(y_test, y_pred),3))"
      ],
      "execution_count": 66,
      "outputs": [
        {
          "output_type": "stream",
          "text": [
            "Accuracy :  0.927\n",
            "AUC :  0.93\n"
          ],
          "name": "stdout"
        }
      ]
    },
    {
      "cell_type": "code",
      "metadata": {
        "id": "DuFTgUWy5Zmb",
        "outputId": "7c60e785-7428-4858-c1b0-2391e558c843",
        "colab": {
          "base_uri": "https://localhost:8080/",
          "height": 295
        }
      },
      "source": [
        "# plotting ROC curve\n",
        "fpr, tpr, thresholds = roc_curve(y_test, y_pred)\n",
        "plt.plot(fpr, tpr)\n",
        "plt.title(\"ROC kNN model\")\n",
        "plt.xlabel(\"False Positive Rate\")\n",
        "plt.ylabel(\"True Positive Rate\")\n",
        "plt.show()"
      ],
      "execution_count": 67,
      "outputs": [
        {
          "output_type": "display_data",
          "data": {
            "image/png": "[encoded data removed]",
            "text/plain": [
              "<Figure size 432x288 with 1 Axes>"
            ]
          },
          "metadata": {
            "tags": [],
            "needs_background": "light"
          }
        }
      ]
    },
    {
      "cell_type": "markdown",
      "metadata": {
        "id": "eIbmfo3vGDA-"
      },
      "source": [
        "## Random forest"
      ]
    },
    {
      "cell_type": "code",
      "metadata": {
        "id": "0d55RA7qGIVn",
        "outputId": "8e36cc13-afc6-46f2-9e21-a96d7ad33d8c",
        "colab": {
          "base_uri": "https://localhost:8080/",
          "height": 51
        }
      },
      "source": [
        "from sklearn.ensemble import RandomForestClassifier\n",
        "\n",
        "# Builing model\n",
        "rfc = RandomForestClassifier(n_estimators=500, oob_score=True)\n",
        "model = rfc.fit(X_train, y_train)\n",
        "\n",
        "# Make prediction\n",
        "y_prob = model.predict_proba(X_test)[:,1] \n",
        "y_pred = np.where(y_prob > 0.5, 1, 0) \n",
        "\n",
        "# Saving results\n",
        "rfc_acc = np.round(accuracy_score(y_test, y_pred),3)\n",
        "\n",
        "# printing results\n",
        "print('Accuracy : ', np.round(accuracy_score(y_test, y_pred),3) )\n",
        "print('AUC : ', np.round(roc_auc_score(y_test, y_pred),3))"
      ],
      "execution_count": 68,
      "outputs": [
        {
          "output_type": "stream",
          "text": [
            "Accuracy :  0.94\n",
            "AUC :  0.92\n"
          ],
          "name": "stdout"
        }
      ]
    },
    {
      "cell_type": "code",
      "metadata": {
        "id": "karqT6H7IyJO",
        "outputId": "0a58d08e-cf33-406e-9771-881091224995",
        "colab": {
          "base_uri": "https://localhost:8080/",
          "height": 295
        }
      },
      "source": [
        "# plotting ROC curve\n",
        "fpr, tpr, thresholds = roc_curve(y_test, y_pred)\n",
        "plt.plot(fpr, tpr)\n",
        "plt.title(\"ROC Random forest model\")\n",
        "plt.xlabel(\"False Positive Rate\")\n",
        "plt.ylabel(\"True Positive Rate\")\n",
        "plt.show()"
      ],
      "execution_count": 69,
      "outputs": [
        {
          "output_type": "display_data",
          "data": {
            "image/png": "[encoded data removed]",
            "text/plain": [
              "<Figure size 432x288 with 1 Axes>"
            ]
          },
          "metadata": {
            "tags": [],
            "needs_background": "light"
          }
        }
      ]
    },
    {
      "cell_type": "markdown",
      "metadata": {
        "id": "rCePK8ohGoZZ"
      },
      "source": [
        "## Bagging"
      ]
    },
    {
      "cell_type": "code",
      "metadata": {
        "id": "Wz3qIUXHGqZI",
        "outputId": "f40b8ca3-fa19-4b3c-a1d5-29e4ba91b131",
        "colab": {
          "base_uri": "https://localhost:8080/",
          "height": 51
        }
      },
      "source": [
        "from sklearn.ensemble import BaggingClassifier \n",
        "\n",
        "# Builing model\n",
        "bagging = BaggingClassifier(n_estimators=5)\n",
        "bagging.fit(X_train, y_train)\n",
        "\n",
        "# Make prediction\n",
        "y_prob = bagging.predict_proba(X_test)[:,1] \n",
        "y_pred = np.where(y_prob > 0.5, 1, 0) \n",
        "\n",
        "# Saving results\n",
        "bagging_acc = np.round(accuracy_score(y_test, y_pred),3)\n",
        "\n",
        "# printing results\n",
        "print('Accuracy : ', np.round(accuracy_score(y_test, y_pred),3) )\n",
        "print('AUC : ', np.round(roc_auc_score(y_test, y_pred),3))"
      ],
      "execution_count": 70,
      "outputs": [
        {
          "output_type": "stream",
          "text": [
            "Accuracy :  0.894\n",
            "AUC :  0.87\n"
          ],
          "name": "stdout"
        }
      ]
    },
    {
      "cell_type": "code",
      "metadata": {
        "id": "3AGn3_T8I04T",
        "outputId": "e297ec6e-9939-4ab4-fdf9-2e2c8efea60b",
        "colab": {
          "base_uri": "https://localhost:8080/",
          "height": 295
        }
      },
      "source": [
        "# plotting ROC curve\n",
        "fpr, tpr, thresholds = roc_curve(y_test, y_pred)\n",
        "plt.plot(fpr, tpr)\n",
        "plt.title(\"ROC Bagging model\")\n",
        "plt.xlabel(\"False Positive Rate\")\n",
        "plt.ylabel(\"True Positive Rate\")\n",
        "plt.show()"
      ],
      "execution_count": 71,
      "outputs": [
        {
          "output_type": "display_data",
          "data": {
            "image/png": "[encoded data removed]",
            "text/plain": [
              "<Figure size 432x288 with 1 Axes>"
            ]
          },
          "metadata": {
            "tags": [],
            "needs_background": "light"
          }
        }
      ]
    },
    {
      "cell_type": "markdown",
      "metadata": {
        "id": "0v_rTnKiUs_z"
      },
      "source": [
        "## SCORING"
      ]
    },
    {
      "cell_type": "code",
      "metadata": {
        "id": "E93FgsoiUs_0",
        "outputId": "78abc93e-de90-4f65-bfe1-fe4f58f9f9ce",
        "colab": {
          "base_uri": "https://localhost:8080/",
          "height": 204
        }
      },
      "source": [
        "# intialise data of lists. \n",
        "acc = {'Model':['Logistic', 'SVM', 'kNN', 'Random Forest', \"Bagging\"],\n",
        "        'Accuracy':[log_acc,svm_acc,knn_acc,rfc_acc,bagging_acc]} \n",
        "  \n",
        "# Create DataFrame \n",
        "df = pd.DataFrame(acc) \n",
        "  \n",
        "# Print the output. \n",
        "df"
      ],
      "execution_count": 72,
      "outputs": [
        {
          "output_type": "execute_result",
          "data": {
            "text/html": [
              "<div>\n",
              "<style scoped>\n",
              "    .dataframe tbody tr th:only-of-type {\n",
              "        vertical-align: middle;\n",
              "    }\n",
              "\n",
              "    .dataframe tbody tr th {\n",
              "        vertical-align: top;\n",
              "    }\n",
              "\n",
              "    .dataframe thead th {\n",
              "        text-align: right;\n",
              "    }\n",
              "</style>\n",
              "<table border=\"1\" class=\"dataframe\">\n",
              "  <thead>\n",
              "    <tr style=\"text-align: right;\">\n",
              "      <th></th>\n",
              "      <th>Model</th>\n",
              "      <th>Accuracy</th>\n",
              "    </tr>\n",
              "  </thead>\n",
              "  <tbody>\n",
              "    <tr>\n",
              "      <th>0</th>\n",
              "      <td>Logistic</td>\n",
              "      <td>0.898</td>\n",
              "    </tr>\n",
              "    <tr>\n",
              "      <th>1</th>\n",
              "      <td>SVM</td>\n",
              "      <td>0.898</td>\n",
              "    </tr>\n",
              "    <tr>\n",
              "      <th>2</th>\n",
              "      <td>kNN</td>\n",
              "      <td>0.927</td>\n",
              "    </tr>\n",
              "    <tr>\n",
              "      <th>3</th>\n",
              "      <td>Random Forest</td>\n",
              "      <td>0.940</td>\n",
              "    </tr>\n",
              "    <tr>\n",
              "      <th>4</th>\n",
              "      <td>Bagging</td>\n",
              "      <td>0.894</td>\n",
              "    </tr>\n",
              "  </tbody>\n",
              "</table>\n",
              "</div>"
            ],
            "text/plain": [
              "           Model  Accuracy\n",
              "0       Logistic     0.898\n",
              "1            SVM     0.898\n",
              "2            kNN     0.927\n",
              "3  Random Forest     0.940\n",
              "4        Bagging     0.894"
            ]
          },
          "metadata": {
            "tags": []
          },
          "execution_count": 72
        }
      ]
    },
    {
      "cell_type": "code",
      "metadata": {
        "id": "gasPIkrCUs_7",
        "outputId": "58a3c6ee-6c6f-4841-bfc1-55852dd6480d",
        "colab": {
          "base_uri": "https://localhost:8080/",
          "height": 281
        }
      },
      "source": [
        "plt.figure(figsize=(8,4))\n",
        "plt.bar(df[\"Model\"],df[\"Accuracy\"])\n",
        "plt.title(\"Accuracy by model\")\n",
        "plt.show()"
      ],
      "execution_count": 73,
      "outputs": [
        {
          "output_type": "display_data",
          "data": {
            "image/png": "[encoded data removed]",
            "text/plain": [
              "<Figure size 576x288 with 1 Axes>"
            ]
          },
          "metadata": {
            "tags": [],
            "needs_background": "light"
          }
        }
      ]
    },
    {
      "cell_type": "markdown",
      "metadata": {
        "id": "Gpqq-gqgHCaU"
      },
      "source": [
        "# PRODUCTION"
      ]
    },
    {
      "cell_type": "code",
      "metadata": {
        "id": "dcTEUJY1HJIa"
      },
      "source": [
        "# scaling data to predict\n",
        "unknown_scaled = std_scale.transform(data_unknown.iloc[:,:-1])\n",
        "\n",
        "# Make prediction\n",
        "y_prob = rfc.predict_proba(unknown_scaled)[:,1] \n",
        "y_pred = np.where(y_prob > 0.5, 1, 0)"
      ],
      "execution_count": 74,
      "outputs": []
    },
    {
      "cell_type": "code",
      "metadata": {
        "id": "W2yVzGnvIY5i",
        "outputId": "1719f1da-1790-475b-e81a-42c088b84c80",
        "colab": {
          "base_uri": "https://localhost:8080/",
          "height": 295
        }
      },
      "source": [
        "# inverse label encoding\n",
        "data_unknown[\"Pred\"] = labelencoder.inverse_transform(y_pred)\n",
        "\n",
        "# Plotting prediction\n",
        "sns.countplot(x=\"Pred\",data=data_unknown)\n",
        "plt.title(\"Phase type predictions\")\n",
        "plt.show()"
      ],
      "execution_count": 75,
      "outputs": [
        {
          "output_type": "display_data",
          "data": {
            "image/png": "[encoded data removed]",
            "text/plain": [
              "<Figure size 432x288 with 1 Axes>"
            ]
          },
          "metadata": {
            "tags": [],
            "needs_background": "light"
          }
        }
      ]
    },
    {
      "cell_type": "code",
      "metadata": {
        "id": "bULWl6dsX1uD",
        "outputId": "c7d8dacc-58ce-4a47-ec04-4460d69d8df0",
        "colab": {
          "base_uri": "https://localhost:8080/",
          "height": 419
        }
      },
      "source": [
        "# Getting probalities for both cases\n",
        "data_unknown[\"Energetic_prob\"] = rfc.predict_proba(unknown_scaled)[:,0] \n",
        "data_unknown[\"Explosive_prob\"] = rfc.predict_proba(unknown_scaled)[:,1] \n",
        "\n",
        "# Probaiblities from data\n",
        "data_unknown[[\"Phase\",\"Pred\",\"Energetic_prob\",\"Explosive_prob\"]]"
      ],
      "execution_count": 76,
      "outputs": [
        {
          "output_type": "execute_result",
          "data": {
            "text/html": [
              "<div>\n",
              "<style scoped>\n",
              "    .dataframe tbody tr th:only-of-type {\n",
              "        vertical-align: middle;\n",
              "    }\n",
              "\n",
              "    .dataframe tbody tr th {\n",
              "        vertical-align: top;\n",
              "    }\n",
              "\n",
              "    .dataframe thead th {\n",
              "        text-align: right;\n",
              "    }\n",
              "</style>\n",
              "<table border=\"1\" class=\"dataframe\">\n",
              "  <thead>\n",
              "    <tr style=\"text-align: right;\">\n",
              "      <th></th>\n",
              "      <th>Phase</th>\n",
              "      <th>Pred</th>\n",
              "      <th>Energetic_prob</th>\n",
              "      <th>Explosive_prob</th>\n",
              "    </tr>\n",
              "  </thead>\n",
              "  <tbody>\n",
              "    <tr>\n",
              "      <th>0</th>\n",
              "      <td>Unknown</td>\n",
              "      <td>Energetic</td>\n",
              "      <td>0.786</td>\n",
              "      <td>0.214</td>\n",
              "    </tr>\n",
              "    <tr>\n",
              "      <th>1</th>\n",
              "      <td>Unknown</td>\n",
              "      <td>Energetic</td>\n",
              "      <td>0.936</td>\n",
              "      <td>0.064</td>\n",
              "    </tr>\n",
              "    <tr>\n",
              "      <th>2</th>\n",
              "      <td>Unknown</td>\n",
              "      <td>Energetic</td>\n",
              "      <td>0.758</td>\n",
              "      <td>0.242</td>\n",
              "    </tr>\n",
              "    <tr>\n",
              "      <th>3</th>\n",
              "      <td>Unknown</td>\n",
              "      <td>Energetic</td>\n",
              "      <td>0.928</td>\n",
              "      <td>0.072</td>\n",
              "    </tr>\n",
              "    <tr>\n",
              "      <th>4</th>\n",
              "      <td>Unknown</td>\n",
              "      <td>Energetic</td>\n",
              "      <td>0.712</td>\n",
              "      <td>0.288</td>\n",
              "    </tr>\n",
              "    <tr>\n",
              "      <th>...</th>\n",
              "      <td>...</td>\n",
              "      <td>...</td>\n",
              "      <td>...</td>\n",
              "      <td>...</td>\n",
              "    </tr>\n",
              "    <tr>\n",
              "      <th>2072</th>\n",
              "      <td>Unknown</td>\n",
              "      <td>Energetic</td>\n",
              "      <td>0.930</td>\n",
              "      <td>0.070</td>\n",
              "    </tr>\n",
              "    <tr>\n",
              "      <th>2145</th>\n",
              "      <td>Unknown</td>\n",
              "      <td>Energetic</td>\n",
              "      <td>0.638</td>\n",
              "      <td>0.362</td>\n",
              "    </tr>\n",
              "    <tr>\n",
              "      <th>2164</th>\n",
              "      <td>Unknown</td>\n",
              "      <td>Energetic</td>\n",
              "      <td>0.848</td>\n",
              "      <td>0.152</td>\n",
              "    </tr>\n",
              "    <tr>\n",
              "      <th>2169</th>\n",
              "      <td>Unknown</td>\n",
              "      <td>Energetic</td>\n",
              "      <td>0.948</td>\n",
              "      <td>0.052</td>\n",
              "    </tr>\n",
              "    <tr>\n",
              "      <th>2170</th>\n",
              "      <td>Unknown</td>\n",
              "      <td>Explosive</td>\n",
              "      <td>0.220</td>\n",
              "      <td>0.780</td>\n",
              "    </tr>\n",
              "  </tbody>\n",
              "</table>\n",
              "<p>263 rows × 4 columns</p>\n",
              "</div>"
            ],
            "text/plain": [
              "        Phase       Pred  Energetic_prob  Explosive_prob\n",
              "0     Unknown  Energetic           0.786           0.214\n",
              "1     Unknown  Energetic           0.936           0.064\n",
              "2     Unknown  Energetic           0.758           0.242\n",
              "3     Unknown  Energetic           0.928           0.072\n",
              "4     Unknown  Energetic           0.712           0.288\n",
              "...       ...        ...             ...             ...\n",
              "2072  Unknown  Energetic           0.930           0.070\n",
              "2145  Unknown  Energetic           0.638           0.362\n",
              "2164  Unknown  Energetic           0.848           0.152\n",
              "2169  Unknown  Energetic           0.948           0.052\n",
              "2170  Unknown  Explosive           0.220           0.780\n",
              "\n",
              "[263 rows x 4 columns]"
            ]
          },
          "metadata": {
            "tags": []
          },
          "execution_count": 76
        }
      ]
    }
  ]
}